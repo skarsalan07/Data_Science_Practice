{
 "cells": [
  {
   "cell_type": "code",
   "execution_count": 5,
   "id": "5cdc985f-f223-43b7-81b8-7975012a765d",
   "metadata": {},
   "outputs": [
    {
     "ename": "NameError",
     "evalue": "name 'y_pred' is not defined",
     "output_type": "error",
     "traceback": [
      "\u001b[1;31m---------------------------------------------------------------------------\u001b[0m",
      "\u001b[1;31mNameError\u001b[0m                                 Traceback (most recent call last)",
      "Cell \u001b[1;32mIn[5], line 12\u001b[0m\n\u001b[0;32m     10\u001b[0m lr \u001b[38;5;241m=\u001b[39m LinearRegression()\n\u001b[0;32m     11\u001b[0m lr\u001b[38;5;241m.\u001b[39mfit(X_train,y_train)\n\u001b[1;32m---> 12\u001b[0m r2_score(y_test,y_pred)\n\u001b[0;32m     13\u001b[0m y_pred \u001b[38;5;241m=\u001b[39m lr\u001b[38;5;241m.\u001b[39mpredict(X_test)\n\u001b[0;32m     14\u001b[0m lr\u001b[38;5;241m.\u001b[39mintercept_,lr\u001b[38;5;241m.\u001b[39mcoef_\n",
      "\u001b[1;31mNameError\u001b[0m: name 'y_pred' is not defined"
     ]
    }
   ],
   "source": [
    "from sklearn.datasets import  load_diabetes\n",
    "import numpy as np\n",
    "from sklearn.linear_model import LinearRegression\n",
    "from sklearn.metrics import r2_score\n",
    "from sklearn.model_selection import train_test_split\n",
    "X,y = load_diabetes(return_X_y =True)\n",
    "import seaborn as sns \n",
    "import random\n",
    "X_train,X_test,y_train,y_test = train_test_split(X,y,test_size=0.2,random_state=2)\n",
    "lr = LinearRegression()\n",
    "lr.fit(X_train,y_train)\n",
    "r2_score(y_test,y_pred)\n",
    "y_pred = lr.predict(X_test)\n",
    "lr.intercept_,lr.coef_\n",
    "from sklearn.preprocessing import StandardScaler\n",
    "ss = StandardScaler()\n",
    "X_train_scaled = ss.fit_transform(X_train)\n",
    "X_ts"
   ]
  },
  {
   "cell_type": "code",
   "execution_count": 3,
   "id": "24972ca6-4dae-4620-b87c-f690b1f76e19",
   "metadata": {},
   "outputs": [
    {
     "name": "stdout",
     "output_type": "stream",
     "text": [
      "152.7217820578306 [ -11.13864382 -200.59412626  539.40627461  331.16338815  -74.01954345\n",
      " -104.85908064 -180.5486777    71.75568523  552.31383164   62.47137537]\n"
     ]
    },
    {
     "data": {
      "text/plain": [
       "0.4431762541209363"
      ]
     },
     "execution_count": 3,
     "metadata": {},
     "output_type": "execute_result"
    }
   ],
   "source": [
    "class sgd:\n",
    "    def __init__(self,batches,lr,ep):\n",
    "        self.batches = batches\n",
    "        self.lr = lr\n",
    "        self.ep = ep\n",
    "        self.intercept = None\n",
    "        self.coef = None\n",
    "\n",
    "    def fit(self,X_train,y_train):\n",
    "        self.coef = np.ones(X_train.shape[1])\n",
    "        self.intercept = 0\n",
    "        for i in range(self.ep):\n",
    "            for j in range(int(X_train.shape[0]/self.batches)):\n",
    "                idx = random.sample(range(0,X_train.shape[0]),self.batches)\n",
    "                y_hat = np.dot(X_train[idx],self.coef)+self.intercept\n",
    "                intercept_der = -2*np.mean(y_train[idx]-y_hat)\n",
    "                coef_der = -2*np.dot((y_train[idx]-y_hat),X_train[idx])\n",
    "                self.intercept = self.intercept - (self.lr*intercept_der)\n",
    "                self.coef = self.coef - (self.lr*coef_der)\n",
    "\n",
    "        print(self.intercept,self.coef)\n",
    "    def predict(self,X_test):\n",
    "        return np.dot(X_test,self.coef)+self.intercept\n",
    "sgd = sgd(50,0.01,500)\n",
    "sgd.fit(X_train,y_train)\n",
    "ypred = sgd.predict(X_test)\n",
    "r2_score(y_test,ypred)"
   ]
  },
  {
   "cell_type": "code",
   "execution_count": 4,
   "id": "1b3fd73b-ba85-4ed0-b4c6-c3188db0cd04",
   "metadata": {},
   "outputs": [
    {
     "name": "stdout",
     "output_type": "stream",
     "text": [
      "[ 4.021749    0.34012883 11.54795823  8.85375736  3.99853438  3.06120179\n",
      " -6.84539306  7.18854536 10.90544702  5.99221715] [152.33655489]\n"
     ]
    },
    {
     "data": {
      "text/plain": [
       "0.02507603839597572"
      ]
     },
     "execution_count": 4,
     "metadata": {},
     "output_type": "execute_result"
    }
   ],
   "source": [
    "#using sklearn library \n",
    "from sklearn.linear_model import SGDRegressor\n",
    "sgd = SGDRegressor()\n",
    "batch = 30\n",
    "for i in range(100):\n",
    "    ldk = random.sample(range(X_train.shape[0]),batch)\n",
    "    sgd.partial_fit(X_train[ldk],y_train[ldk])\n",
    "\n",
    "print(sgd.coef_,sgd.intercept_)\n",
    "\n",
    "ypred1 = sgd.predict(X_test)\n",
    "r2_score(y_test,ypred1)\n"
   ]
  },
  {
   "cell_type": "code",
   "execution_count": null,
   "id": "70711b2c-4c85-4119-86cd-e373634eb61f",
   "metadata": {},
   "outputs": [],
   "source": []
  }
 ],
 "metadata": {
  "kernelspec": {
   "display_name": "Python 3 (ipykernel)",
   "language": "python",
   "name": "python3"
  },
  "language_info": {
   "codemirror_mode": {
    "name": "ipython",
    "version": 3
   },
   "file_extension": ".py",
   "mimetype": "text/x-python",
   "name": "python",
   "nbconvert_exporter": "python",
   "pygments_lexer": "ipython3",
   "version": "3.11.7"
  }
 },
 "nbformat": 4,
 "nbformat_minor": 5
}
