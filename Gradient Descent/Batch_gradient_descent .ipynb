{
 "cells": [
  {
   "cell_type": "code",
   "execution_count": 118,
   "id": "fec17be2-cd2f-4f6f-9111-a776b413ded7",
   "metadata": {},
   "outputs": [],
   "source": [
    "from sklearn.datasets import  load_diabetes\n",
    "import numpy as np\n",
    "from sklearn.linear_model import LinearRegression\n",
    "from sklearn.metrics import r2_score\n",
    "from sklearn.model_selection import train_test_split"
   ]
  },
  {
   "cell_type": "code",
   "execution_count": 119,
   "id": "88e4e610-4cc9-4445-9fdd-100f8865f9a8",
   "metadata": {},
   "outputs": [],
   "source": [
    "X,y = load_diabetes(return_X_y =True)\n",
    "import seaborn as sns "
   ]
  },
  {
   "cell_type": "code",
   "execution_count": 120,
   "id": "2eb54122-3bcf-455c-b521-a3b55958c941",
   "metadata": {},
   "outputs": [
    {
     "data": {
      "text/plain": [
       "(151.88331005254167,\n",
       " array([  -9.15865318, -205.45432163,  516.69374454,  340.61999905,\n",
       "        -895.5520019 ,  561.22067904,  153.89310954,  126.73139688,\n",
       "         861.12700152,   52.42112238]))"
      ]
     },
     "execution_count": 120,
     "metadata": {},
     "output_type": "execute_result"
    }
   ],
   "source": [
    "X_train,X_test,y_train,y_test = train_test_split(X,y,test_size=0.2,random_state=2)\n",
    "lr = LinearRegression()\n",
    "lr.fit(X_train,y_train)\n",
    "lr.intercept_,lr.coef_"
   ]
  },
  {
   "cell_type": "code",
   "execution_count": 121,
   "id": "4aef19f1-4b33-4c99-8cf0-d1bb74b762db",
   "metadata": {},
   "outputs": [
    {
     "name": "stdout",
     "output_type": "stream",
     "text": [
      "[  62.27835432  -24.14017912  262.40285385  192.20751489   39.48809013\n",
      "   10.26886323 -142.50597903  124.33312557  244.33510843  119.34350233] 151.94042847773682\n"
     ]
    }
   ],
   "source": [
    "class Gdregressor:\n",
    "    def __init__(self,learning_rate = 0.0,epochs = 1000):\n",
    "        self.coef_ = None\n",
    "        self.intercept_ = None\n",
    "        self.lr = learning_rate\n",
    "        self.epochs = epochs\n",
    "\n",
    "    def fit(self,X_train,y_train):\n",
    "        self.intercept_ = 0\n",
    "        self.coef_ = np.ones(X_train.shape[1])\n",
    "        for i in range(self.epochs):\n",
    "            y_hat = np.dot(X_train,self.coef_)+self.intercept_\n",
    "            \n",
    "            intercept_der = -2*np.mean(y_train-y_hat)\n",
    "            self.intercept_ = self.intercept_ - (self.lr * intercept_der)\n",
    "            coef_der = -2*np.dot((y_train - y_hat),X_train)/X_train.shape[0]\n",
    "            self.coef_ = self.coef_ - (self.lr *coef_der)\n",
    "        print(self.coef_,self.intercept_)\n",
    "\n",
    "    def predict(self,X_test):\n",
    "        return np.dot(X_test,self.coef_)+self.intercept_\n",
    "            \n",
    "gdr = Gdregressor()\n",
    "gdr.fit(X_train,y_train)\n"
   ]
  },
  {
   "cell_type": "code",
   "execution_count": 122,
   "id": "4559b82c-24cc-49ce-917b-3a506786b4c6",
   "metadata": {},
   "outputs": [
    {
     "data": {
      "text/plain": [
       "0.3971698388048742"
      ]
     },
     "execution_count": 122,
     "metadata": {},
     "output_type": "execute_result"
    }
   ],
   "source": [
    "y_pred = gdr.predict(X_test)\n",
    "r2_score(y_test,y_pred,)"
   ]
  }
 ],
 "metadata": {
  "kernelspec": {
   "display_name": "Python 3 (ipykernel)",
   "language": "python",
   "name": "python3"
  },
  "language_info": {
   "codemirror_mode": {
    "name": "ipython",
    "version": 3
   },
   "file_extension": ".py",
   "mimetype": "text/x-python",
   "name": "python",
   "nbconvert_exporter": "python",
   "pygments_lexer": "ipython3",
   "version": "3.11.7"
  }
 },
 "nbformat": 4,
 "nbformat_minor": 5
}
