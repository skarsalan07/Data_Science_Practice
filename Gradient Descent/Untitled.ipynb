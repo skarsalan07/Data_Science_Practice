{
 "cells": [
  {
   "cell_type": "code",
   "execution_count": null,
   "id": "9c0ccfc3-8b35-470b-bb67-37d4627e684c",
   "metadata": {},
   "outputs": [],
   "source": [
    "from sklearn.datasets import  load_diabetes\n",
    "import numpy as np\n",
    "from sklearn.linear_model import LinearRegression\n",
    "from sklearn.metrics import r2_score\n",
    "from sklearn.model_selection import train_test_split"
   ]
  },
  {
   "cell_type": "code",
   "execution_count": null,
   "id": "977720b0-eb0b-402c-bfcc-1dfbe05cd175",
   "metadata": {},
   "outputs": [],
   "source": [
    "X,y = load_diabetes(return_X_y =True)\n",
    "import seaborn as sns "
   ]
  },
  {
   "cell_type": "code",
   "execution_count": 247,
   "id": "c7985993-39e6-4d67-904b-d88ced9db0e3",
   "metadata": {},
   "outputs": [
    {
     "data": {
      "text/plain": [
       "(151.88331005254167,\n",
       " array([  -9.15865318, -205.45432163,  516.69374454,  340.61999905,\n",
       "        -895.5520019 ,  561.22067904,  153.89310954,  126.73139688,\n",
       "         861.12700152,   52.42112238]))"
      ]
     },
     "execution_count": 247,
     "metadata": {},
     "output_type": "execute_result"
    }
   ],
   "source": [
    "X_train,X_test,y_train,y_test = train_test_split(X,y,test_size=0.2,random_state=2)\n",
    "lr = LinearRegression()\n",
    "lr.fit(X_train,y_train)\n",
    "lr.intercept_,lr.coef_"
   ]
  },
  {
   "cell_type": "code",
   "execution_count": 248,
   "id": "6919642b-6e77-4dfc-8f09-f255fce50e78",
   "metadata": {},
   "outputs": [
    {
     "name": "stdout",
     "output_type": "stream",
     "text": [
      "148.10858063825512\n",
      "[  -2.44469679 -195.71810201  531.59422612  338.76238604 -144.91652494\n",
      "  -48.49311579 -172.81567325   61.33135954  570.99621532   57.26740269]\n"
     ]
    },
    {
     "data": {
      "text/plain": [
       "0.4391005440386835"
      ]
     },
     "execution_count": 248,
     "metadata": {},
     "output_type": "execute_result"
    }
   ],
   "source": [
    "class BGD:\n",
    "    def __init__(self,learning_rate,ephocs):\n",
    "        self.b = 12333\n",
    "        self.m = np.ones(X_train.shape[1])\n",
    "        self.lr = learning_rate\n",
    "        self.ephoc = ephocs\n",
    "        \n",
    "\n",
    "    def fit(self,X,y):\n",
    "        for i in range(self.ephoc):\n",
    "            for j in range(X.shape[0]):\n",
    "                \n",
    "                idx = np.random.randint(0,X.shape[0])\n",
    "                y_hat = np.dot(X[idx],self.m) + self.b \n",
    "                loss_slope_b = -2*np.mean(y[idx]-y_hat)\n",
    "                loss_slope_m = -2*np.dot((y[idx]-y_hat),X[idx])\n",
    "\n",
    "                self.b = self.b - (self.lr * loss_slope_b)\n",
    "                self.m = self.m - (self.lr * loss_slope_m)\n",
    "            \n",
    "        print(self.b)\n",
    "        print(self.m)\n",
    "\n",
    "    def predict(self,X_test):\n",
    "        return np.dot(X_test,self.m)+self.b\n",
    "            \n",
    "\n",
    "bgd = BGD(0.001,1000)\n",
    "bgd.fit(X_train,y_train)\n",
    "predict_value=bgd.predict(X_test)\n",
    "r2_score(y_test,predict_value)"
   ]
  },
  {
   "cell_type": "code",
   "execution_count": null,
   "id": "44e94d17-5f11-4884-a4b2-ba380beb821e",
   "metadata": {},
   "outputs": [],
   "source": []
  }
 ],
 "metadata": {
  "kernelspec": {
   "display_name": "Python 3 (ipykernel)",
   "language": "python",
   "name": "python3"
  },
  "language_info": {
   "codemirror_mode": {
    "name": "ipython",
    "version": 3
   },
   "file_extension": ".py",
   "mimetype": "text/x-python",
   "name": "python",
   "nbconvert_exporter": "python",
   "pygments_lexer": "ipython3",
   "version": "3.11.7"
  }
 },
 "nbformat": 4,
 "nbformat_minor": 5
}
