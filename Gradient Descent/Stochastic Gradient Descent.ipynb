{
 "cells": [
  {
   "cell_type": "code",
   "execution_count": 5,
   "id": "82666cb5-a895-4262-b3b5-d4c6540aff22",
   "metadata": {},
   "outputs": [],
   "source": [
    "from sklearn.datasets import  load_diabetes\n",
    "import numpy as np\n",
    "from sklearn.linear_model import LinearRegression\n",
    "from sklearn.metrics import r2_score\n",
    "from sklearn.model_selection import train_test_split"
   ]
  },
  {
   "cell_type": "code",
   "execution_count": 6,
   "id": "f724f95a-0ac3-456e-8cfe-4c271f1a2485",
   "metadata": {},
   "outputs": [],
   "source": [
    "X,y = load_diabetes(return_X_y =True)\n",
    "import seaborn as sns "
   ]
  },
  {
   "cell_type": "code",
   "execution_count": 7,
   "id": "15db431e-981c-44b2-bfb9-2c55570b4633",
   "metadata": {},
   "outputs": [
    {
     "data": {
      "text/plain": [
       "(151.88331005254167,\n",
       " array([  -9.15865318, -205.45432163,  516.69374454,  340.61999905,\n",
       "        -895.5520019 ,  561.22067904,  153.89310954,  126.73139688,\n",
       "         861.12700152,   52.42112238]))"
      ]
     },
     "execution_count": 7,
     "metadata": {},
     "output_type": "execute_result"
    }
   ],
   "source": [
    "X_train,X_test,y_train,y_test = train_test_split(X,y,test_size=0.2,random_state=2)\n",
    "lr = LinearRegression()\n",
    "lr.fit(X_train,y_train)\n",
    "lr.intercept_,lr.coef_"
   ]
  },
  {
   "cell_type": "code",
   "execution_count": 8,
   "id": "1130cb3d-3f49-41d8-91bc-ff2fa3793acc",
   "metadata": {},
   "outputs": [],
   "source": [
    "class Gdregressor:\n",
    "    def __init__(self,learning_rate = 0.0,epochs = 1000):\n",
    "        self.coef_ = None\n",
    "        self.intercept_ = None\n",
    "        self.lr = learning_rate\n",
    "        self.epochs = epochs\n",
    "\n",
    "    def fit(self,X_train,y_train):\n",
    "        self.intercept_ = 0\n",
    "        self.coef_ = np.ones(X_train.shape[1])\n",
    "        for i in range(self.epochs):\n",
    "            for j in range(X_train.shape[0]):\n",
    "                idx = np.random.randint(0,X_train.shape[0])\n",
    "                \n",
    "                y_hat = np.dot(X_train[idx],self.coef_)+self.intercept_\n",
    "            \n",
    "                intercept_der = -2*np.mean(y_train[idx]-y_hat)\n",
    "                self.intercept_ = self.intercept_ - (self.lr * intercept_der)\n",
    "                coef_der = -2*np.dot((y_train[idx] - y_hat),X_train[idx])\n",
    "                self.coef_ = self.coef_ - (self.lr *coef_der)\n",
    "        # print(self.coef_,self.intercept_)\n",
    "\n",
    "    def predict(self,X_test):\n",
    "        return np.dot(X_test,self.coef_)+self.intercept_\n",
    "            \n",
    "gdr = Gdregressor(learning_rate=0.001,epochs=100)\n",
    "gdr.fit(X_train,y_train) "
   ]
  },
  {
   "cell_type": "code",
   "execution_count": 9,
   "id": "97bb8c2f-b69e-480b-8e38-626964773e00",
   "metadata": {},
   "outputs": [
    {
     "name": "stdout",
     "output_type": "stream",
     "text": [
      "[  28.78995588 -142.60569349  459.49646882  295.5128118   -27.25846318\n",
      "  -93.64404424 -188.95401858  109.383064    404.60804843  118.28223473] 142.85508714943765\n"
     ]
    }
   ],
   "source": [
    "class SGD:\n",
    "    def __init__(self,learning_rate,ephocs):\n",
    "        self.intercept = None\n",
    "        self.coef = None\n",
    "        self.lr = learning_rate\n",
    "        self.ephocs = ephocs\n",
    "\n",
    "    def fit(self,X_train,y_train):\n",
    "        self.intercept = 0\n",
    "        self.coef = np.ones(X_train.shape[1])\n",
    "        for i in range(self.ephocs):\n",
    "            for j in range(X_train.shape[0]):\n",
    "                random_index = np.random.randint(0,X_train.shape[0])\n",
    "                y_hat = np.dot(X_train[random_index],self.coef)+self.intercept\n",
    "                intercept_der = -2*np.mean(y_train[random_index]-y_hat)\n",
    "                self.intercept = self.intercept - (self.lr * intercept_der)\n",
    "                coef_der = -2*np.dot((y_train[random_index] - y_hat),X_train[random_index])\n",
    "                self.coef = self.coef - (self.lr *coef_der)\n",
    "\n",
    "        print(self.coef,self.intercept)\n",
    "                \n",
    "                \n",
    "\n",
    "\n",
    "sgd = SGD(0.01,100)\n",
    "sgd.fit(X_train,y_train)"
   ]
  }
 ],
 "metadata": {
  "kernelspec": {
   "display_name": "Python 3 (ipykernel)",
   "language": "python",
   "name": "python3"
  },
  "language_info": {
   "codemirror_mode": {
    "name": "ipython",
    "version": 3
   },
   "file_extension": ".py",
   "mimetype": "text/x-python",
   "name": "python",
   "nbconvert_exporter": "python",
   "pygments_lexer": "ipython3",
   "version": "3.11.7"
  }
 },
 "nbformat": 4,
 "nbformat_minor": 5
}
