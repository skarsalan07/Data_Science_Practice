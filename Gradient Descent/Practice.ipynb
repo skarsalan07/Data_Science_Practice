{
 "cells": [
  {
   "cell_type": "code",
   "execution_count": 257,
   "id": "4945def9-1dc9-416d-9226-3bad8d9ca094",
   "metadata": {},
   "outputs": [
    {
     "data": {
      "text/plain": [
       "0.4399338661568969"
      ]
     },
     "execution_count": 257,
     "metadata": {},
     "output_type": "execute_result"
    }
   ],
   "source": [
    "import numpy as np \n",
    "import pandas as pd \n",
    "from sklearn.datasets import load_diabetes\n",
    "from sklearn.metrics import r2_score\n",
    "X,y = load_diabetes(return_X_y=True)\n",
    "\n",
    "from sklearn.model_selection import train_test_split\n",
    "X_train,X_test,y_train,y_test = train_test_split(X,y,test_size = 0.2,random_state=2)\n",
    "sc= StandardScaler()\n",
    "X_train_scaled = sc.fit_transform(X_train)\n",
    "X_test_scaled = sc.transform(X_test)\n",
    "\n",
    "from sklearn.preprocessing import StandardScaler\n",
    "from sklearn.linear_model import LinearRegression\n",
    "lr = LinearRegression()\n",
    "lr.fit(X_train,y_train)\n",
    "y_pred = lr.predict(X_test)\n",
    "lr.coef_,lr.intercept_\n",
    "r2_score(y_test,y_pred)"
   ]
  },
  {
   "cell_type": "code",
   "execution_count": 236,
   "id": "9470322e-340e-480f-916f-1e594c28274f",
   "metadata": {},
   "outputs": [
    {
     "data": {
      "text/plain": [
       "0.4399338661568969"
      ]
     },
     "execution_count": 236,
     "metadata": {},
     "output_type": "execute_result"
    }
   ],
   "source": [
    "import numpy as np \n",
    "import pandas as pd \n",
    "from sklearn.datasets import load_diabetes\n",
    "from sklearn.metrics import r2_score\n",
    "X,y = load_diabetes(return_X_y=True)\n",
    "\n",
    "from sklearn.model_selection import train_test_split\n",
    "X_train,X_test,y_train,y_test = train_test_split(X,y,test_size = 0.2,random_state=2)\n",
    "sc= StandardScaler()\n",
    "X_train_scaled = sc.fit_transform(X_train)\n",
    "X_test_scaled = sc.transform(X_test)\n",
    "\n",
    "from sklearn.preprocessing import StandardScaler\n",
    "from sklearn.linear_model import LinearRegression\n",
    "lr = LinearRegression()\n",
    "lr.fit(X_train,y_train)\n",
    "y_pred = lr.predict(X_test)\n",
    "lr.coef_,lr.intercept_\n",
    "r2_score(y_test,y_pred)"
   ]
  },
  {
   "cell_type": "code",
   "execution_count": 237,
   "id": "ec3dc70b-7669-4c28-9e59-3e9eec63b8f5",
   "metadata": {},
   "outputs": [
    {
     "name": "stdout",
     "output_type": "stream",
     "text": [
      "150.45892351274787\n",
      "[ 0.96188688 -7.79865505 22.77111496 15.13732205 -1.59941163 -5.27607357\n",
      " -9.12697653  5.10170616 20.74087604  4.88054451]\n",
      "0.4544441770882267\n"
     ]
    }
   ],
   "source": [
    "class BGD:\n",
    "    def __init__(self,learning_rate,ephocs):\n",
    "        self.lr = learning_rate\n",
    "        self.ephocs = ephocs\n",
    "        self.coef = None\n",
    "        self.intercept = None\n",
    "\n",
    "    def fit(self,X_train,y_train):\n",
    "        self.intercept = 0\n",
    "        self.coef = np.zeros(X_train.shape[1])\n",
    "        for i in range(self.ephocs):\n",
    "            y_hat = np.dot(X_train,self.coef)+self.intercept\n",
    "            loss = np.mean((y_train-y_hat)**2)\n",
    "            intercept_der = -2*np.sum(y_train-y_hat)\n",
    "            self.intercept = self.intercept - (self.lr * intercept_der)\n",
    "            coef_der = -2*np.dot(X_train.T,(y_train-y_hat))/len(y_train)\n",
    "            self.coef = self.coef - (self.lr *coef_der)\n",
    "        print(self.intercept)\n",
    "        print(self.coef)\n",
    "  def predict(self,X_test):\n",
    "        return np.dot(X_test,self.coef)+self.intercept"
   ]
  },
  {
   "cell_type": "code",
   "execution_count": 266,
   "id": "6bd75fc1-9c8a-48d5-b99a-d2a48a1e67ec",
   "metadata": {},
   "outputs": [
    {
     "name": "stdout",
     "output_type": "stream",
     "text": [
      "[ 0.96188688 -7.79865505 22.77111496 15.13732205 -1.59941163 -5.27607357\n",
      " -9.12697653  5.10170616 20.74087604  4.88054451] 150.45892351274787\n"
     ]
    },
    {
     "data": {
      "text/plain": [
       "0.4544441770882267"
      ]
     },
     "execution_count": 266,
     "metadata": {},
     "output_type": "execute_result"
    }
   ],
   "source": [
    "class bgd:\n",
    "    def __init__(self,lr,ep):\n",
    "        self.lr = lr\n",
    "        self.ep = ep\n",
    "        self.intercept = None\n",
    "        self.coef = None\n",
    "\n",
    "    def fit(self,X_train,y_train):\n",
    "        self.intercept = 0\n",
    "        self.coef = np.zeros(X_train.shape[1])\n",
    "        for i in range(self.ep):\n",
    "            y_hat = np.dot(X_train,self.coef)+self.intercept\n",
    "            intercept_der = -2*np.sum(y_train-y_hat)\n",
    "            self.intercept = self.intercept - self.lr*intercept_der\n",
    "            coef_der = -2*np.dot(X_train_scaled.T,(y_train-y_hat))/len(y_train)\n",
    "            self.coef = self.coef - self.lr * coef_der\n",
    "        print(self.coef,self.intercept)\n",
    "    def predict(self,X_test_scaled):\n",
    "        return np.dot(X_test_scaled,self.coef)+self.intercept\n",
    "\n",
    "\n",
    "bgd = bgd(0.001,1000)\n",
    "bgd.fit(X_train_scaled,y_train)\n",
    "ypred = bgd.predict(X_test_scaled)\n",
    "r2_score(y_test,ypred)\n"
   ]
  },
  {
   "cell_type": "code",
   "execution_count": 327,
   "id": "cff2731f-a78c-4622-b56b-1e836f995d08",
   "metadata": {},
   "outputs": [
    {
     "name": "stdout",
     "output_type": "stream",
     "text": [
      "[ 1.07740984 -7.86950356 22.82992305 15.12424027 -1.62217382 -5.22071981\n",
      " -9.21877719  5.06526569 20.71901141  4.92312846] 148.2355364106993\n"
     ]
    },
    {
     "data": {
      "text/plain": [
       "0.45333981654072564"
      ]
     },
     "execution_count": 327,
     "metadata": {},
     "output_type": "execute_result"
    }
   ],
   "source": [
    "class bgd:\n",
    "    def __init__(self,lr,ep):\n",
    "        self.lr = lr\n",
    "        self.ep = ep\n",
    "        self.intercept = None\n",
    "        self.coef = None\n",
    "\n",
    "    def fit(self,X_train,y_train):\n",
    "        self.intercept = 0\n",
    "        self.coef = np.zeros(X_train.shape[1])\n",
    "        for i in range(self.ep):\n",
    "            for j in range(X_train.shape[0]):\n",
    "                rand_ind = np.random.randint(0,X_train.shape[0])\n",
    "                y_hat = np.dot(X_train[rand_ind],self.coef)+self.intercept\n",
    "                intercept_der = -2*np.sum(y_train[rand_ind]-y_hat)\n",
    "                self.intercept = self.intercept - self.lr*intercept_der\n",
    "                coef_der = -2*np.dot(X_train_scaled[rand_ind].T,(y_train[rand_ind]-y_hat))/len(y_train)\n",
    "                self.coef = self.coef - self.lr * coef_der\n",
    "        print(self.coef,self.intercept)\n",
    "    def predict(self,X_test_scaled):\n",
    "        return np.dot(X_test_scaled,self.coef)+self.intercept\n",
    "\n",
    "\n",
    "bgd = bgd(0.001,1000)\n",
    "bgd.fit(X_train_scaled,y_train)\n",
    "ypred = bgd.predict(X_test_scaled)\n",
    "r2_score(y_test,ypred)\n",
    "\n"
   ]
  },
  {
   "cell_type": "code",
   "execution_count": null,
   "id": "193865e0-355d-4f2a-933c-ea1b4d2564c9",
   "metadata": {},
   "outputs": [],
   "source": []
  }
 ],
 "metadata": {
  "kernelspec": {
   "display_name": "Python 3 (ipykernel)",
   "language": "python",
   "name": "python3"
  },
  "language_info": {
   "codemirror_mode": {
    "name": "ipython",
    "version": 3
   },
   "file_extension": ".py",
   "mimetype": "text/x-python",
   "name": "python",
   "nbconvert_exporter": "python",
   "pygments_lexer": "ipython3",
   "version": "3.11.7"
  }
 },
 "nbformat": 4,
 "nbformat_minor": 5
}
