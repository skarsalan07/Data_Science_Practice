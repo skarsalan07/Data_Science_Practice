{
 "cells": [
  {
   "cell_type": "raw",
   "id": "4a69af3e-52cf-4050-a482-96ced776436c",
   "metadata": {},
   "source": [
    "#Accuracy matric "
   ]
  },
  {
   "cell_type": "code",
   "execution_count": 1,
   "id": "63fb5322-7b31-4169-8863-8531ff0ef13b",
   "metadata": {},
   "outputs": [],
   "source": [
    "from sklearn.datasets import make_classification\n",
    "import numpy as np\n",
    "X, y = make_classification(n_samples=10000, n_features=2, n_informative=1,n_redundant=0,\n",
    "                           n_classes=2, n_clusters_per_class=1, random_state=41,hypercube=False,class_sep=10)"
   ]
  },
  {
   "cell_type": "code",
   "execution_count": 2,
   "id": "c8cc88a2-8da0-47d0-b3b6-3806ac7dfba7",
   "metadata": {},
   "outputs": [],
   "source": [
    "from sklearn.model_selection import train_test_split\n",
    "X_train,X_test,y_train,y_test = train_test_split(X,y,random_state=42,test_size=0.2)"
   ]
  },
  {
   "cell_type": "code",
   "execution_count": 3,
   "id": "58c5bf72-2793-432a-b46b-d3a9e0338c4a",
   "metadata": {},
   "outputs": [],
   "source": [
    "from sklearn.linear_model import LogisticRegression\n",
    "lr = LogisticRegression()\n",
    "lr.fit(X_train,y_train)\n",
    "y_predict = lr.predict(X_test)\n"
   ]
  },
  {
   "cell_type": "code",
   "execution_count": 6,
   "id": "29b501ec-958d-490d-ae73-dac778949bca",
   "metadata": {},
   "outputs": [
    {
     "name": "stdout",
     "output_type": "stream",
     "text": [
      "0.9115 Accuracy\n",
      "0.906679764243615 Precision_score\n",
      "0.918407960199005 recall_score\n",
      "0.912506178942165 f1_score\n"
     ]
    }
   ],
   "source": [
    "from sklearn.metrics import accuracy_score,precision_score,recall_score,f1_score\n",
    "\n",
    "print(accuracy_score(y_test,y_predict),\"Accuracy\")\n",
    "print(precision_score(y_test,y_predict),\"Precision_score\")\n",
    "print(recall_score(y_test,y_predict),\"recall_score\")\n",
    "print(f1_score(y_test,y_predict),\"f1_score\")"
   ]
  },
  {
   "cell_type": "code",
   "execution_count": 5,
   "id": "c007b421-cc74-4335-a41b-9c6ef30d8d9d",
   "metadata": {},
   "outputs": [
    {
     "name": "stdout",
     "output_type": "stream",
     "text": [
      "[[900  82]\n",
      " [ 95 923]]\n"
     ]
    }
   ],
   "source": [
    "# Confusion matrix\n",
    "from sklearn.metrics import confusion_matrix\n",
    "print(confusion_matrix(y_predict,y_test))"
   ]
  }
 ],
 "metadata": {
  "kernelspec": {
   "display_name": "Python 3 (ipykernel)",
   "language": "python",
   "name": "python3"
  },
  "language_info": {
   "codemirror_mode": {
    "name": "ipython",
    "version": 3
   },
   "file_extension": ".py",
   "mimetype": "text/x-python",
   "name": "python",
   "nbconvert_exporter": "python",
   "pygments_lexer": "ipython3",
   "version": "3.11.7"
  }
 },
 "nbformat": 4,
 "nbformat_minor": 5
}
