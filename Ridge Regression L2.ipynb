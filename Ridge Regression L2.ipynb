{
 "cells": [
  {
   "cell_type": "code",
   "execution_count": 54,
   "id": "b77c4bca-11dc-45f7-b19b-d1a298d02b5f",
   "metadata": {},
   "outputs": [],
   "source": [
    "from sklearn.datasets import load_diabetes\n",
    "import numpy as np\n",
    "import pandas as pd \n",
    "from sklearn.linear_model import LinearRegression\n",
    "from sklearn.model_selection import train_test_split\n",
    "from sklearn.metrics import r2_score\n",
    "from sklearn.datasets import make_regression"
   ]
  },
  {
   "cell_type": "code",
   "execution_count": 63,
   "id": "d76e2bcb-6d78-4540-b19f-fe7c939a1e27",
   "metadata": {},
   "outputs": [
    {
     "data": {
      "text/plain": [
       "array([-3.43198806e+01, -9.42120961e+00, -1.90881877e+01,  2.04372122e+01,\n",
       "        2.77559659e+01, -2.90750046e+00, -1.41987828e+01,  5.40025891e+00,\n",
       "       -2.64264302e+01, -3.49067872e+01,  3.73362043e+01,  1.28532816e+01,\n",
       "        2.50289888e+01, -1.89608736e+01, -2.34655852e+01,  3.77839324e+01,\n",
       "        6.69670792e+00, -5.57201352e+00, -4.92158778e+01,  1.59474399e+01,\n",
       "       -4.29667324e+01,  6.09015466e+00, -2.53194769e+01,  6.28216706e+01,\n",
       "        1.24870400e+01, -3.27136530e+01, -1.88255476e+01, -2.93912926e+01,\n",
       "       -2.86886731e+01,  4.38924069e+00,  4.63542396e+01,  2.43919519e+01,\n",
       "        3.79848517e+01, -3.45767718e+01, -6.18736296e+01, -4.64421597e+01,\n",
       "       -6.88808416e+00,  3.96988084e+01, -3.52373298e+01,  8.36850884e+00,\n",
       "       -3.96814412e+01,  8.27318308e+00, -4.40722161e+00, -3.01350607e+00,\n",
       "        5.78213629e+01,  2.46525603e+01,  1.81131707e+01, -5.22849035e+01,\n",
       "        3.59187182e+01,  1.58411788e+01,  2.40080546e+01, -2.51245994e+01,\n",
       "       -4.39284313e+01,  1.73925049e+01,  1.50322799e+01,  3.78339073e+01,\n",
       "        6.33015059e+00,  5.07266140e+00, -5.57047189e+00,  1.98411137e+01,\n",
       "        7.04149700e+00, -1.89353310e+01,  3.48047372e+01, -5.71391242e+01,\n",
       "        3.10524837e+01, -7.57291461e+01, -4.43062883e+01,  2.12404103e+01,\n",
       "       -1.86288622e-01, -2.85657165e+01, -7.39169323e+00,  2.52239775e+01,\n",
       "        3.25432136e+01,  2.93379129e-01, -1.86381423e+01,  3.93501682e+01,\n",
       "        2.54005098e+00, -4.86320699e+01,  5.42818051e+01, -1.02170910e+01,\n",
       "       -5.66921620e+00,  2.34628620e+01, -6.92299670e-02,  5.63079459e+00,\n",
       "       -9.68771368e+00, -4.46638656e+01,  3.27083097e+01,  1.81174790e+01,\n",
       "       -1.61432262e+01,  4.50414413e+01,  2.27466324e+01,  3.71085471e+01,\n",
       "        1.24760264e+01, -3.58452002e+01, -2.86386661e+01, -2.79790662e+01,\n",
       "        6.41794705e+01, -6.07154394e+01,  2.22333646e+01, -2.40222151e+00])"
      ]
     },
     "execution_count": 63,
     "metadata": {},
     "output_type": "execute_result"
    }
   ],
   "source": [
    "X,y = load_diabetes(return_X_y=True)\n",
    "X_train,X_test,y_train,y_test = train_test_split(X,y,test_size=0.2,random_state=2)"
   ]
  },
  {
   "cell_type": "code",
   "execution_count": 58,
   "id": "1ed91ba7-c16f-4b1c-8fa3-4c78d1d86a36",
   "metadata": {},
   "outputs": [
    {
     "data": {
      "text/plain": [
       "array([28.12597332])"
      ]
     },
     "execution_count": 58,
     "metadata": {},
     "output_type": "execute_result"
    }
   ],
   "source": [
    "Lr = LinearRegression()\n",
    "Lr.fit(X_train,y_train)\n",
    "y_pred = Lr.predict(X_test)\n",
    "r2_score(y_test,y_pred)\n",
    "Lr.coef_"
   ]
  },
  {
   "cell_type": "code",
   "execution_count": 33,
   "id": "349869e6-920e-429e-a874-cdd897bd5ad5",
   "metadata": {},
   "outputs": [
    {
     "data": {
      "text/plain": [
       "array([154.1213881 , 204.81835118, 124.93755353, 106.08950893,\n",
       "       258.5348576 , 256.3310074 , 118.75087616, 119.52440696,\n",
       "       101.50816735, 190.54048661, 141.70656811, 172.51883961,\n",
       "       174.33861649, 134.80942706, 294.13994537,  94.11798038,\n",
       "       211.97059795, 156.49579378, 134.21000428, 119.62664644,\n",
       "       148.87842251, 165.00873409, 151.10021038, 176.04063756,\n",
       "       133.27769647, 221.29555392, 197.17324941,  96.1577688 ,\n",
       "        50.26012711, 230.48580317, 242.06073866, 114.11129218,\n",
       "        67.07532417,  94.52943825, 201.21415375, 167.05136201,\n",
       "       159.881268  , 192.78746659, 114.49551325, 233.48234551,\n",
       "       140.82563045, 121.0680409 , 192.27480772, 191.12738845,\n",
       "       179.16865788, 148.34935601, 163.47414622, 276.81647884,\n",
       "       100.17926432, 164.10555298, 255.80762189, 136.9466204 ,\n",
       "       152.37503699, 107.92237882, 194.21924678,  77.34670792,\n",
       "       118.50482479,  68.38335763, 154.29258529, 162.48840259,\n",
       "       168.36788326, 156.87790322,  97.14191797, 238.1671215 ,\n",
       "       145.46179904, 117.65702433, 168.88784311, 198.38683887,\n",
       "       118.24053714, 124.64552812, 223.17700368, 200.63012386,\n",
       "       129.54414666, 158.1584765 , 154.332565  , 114.47070769,\n",
       "        70.44906407,  76.3973879 , 172.41584591,  80.56270077,\n",
       "        80.2722834 ,  89.46150248, 186.21572052, 275.46275403,\n",
       "       208.26784222, 143.79451509, 291.28766846, 206.32474844,\n",
       "        94.22935404])"
      ]
     },
     "execution_count": 33,
     "metadata": {},
     "output_type": "execute_result"
    }
   ],
   "source": [
    "from sklearn.linear_model import Ridge\n",
    "rr = Ridge(alpha=0)\n",
    "rr.fit(X_train,y_train)\n",
    "ypred = rr.predict(X_test)\n",
    "r2_score(y_test,ypred)"
   ]
  },
  {
   "cell_type": "code",
   "execution_count": 70,
   "id": "fad200ba-53f1-4610-b6f4-0f6532777390",
   "metadata": {},
   "outputs": [
    {
     "name": "stdout",
     "output_type": "stream",
     "text": [
      "[21284494.11897104]\n",
      "[-1077991.6313881]\n"
     ]
    }
   ],
   "source": [
    "class ridge:\n",
    "    def __init__(self,alpha):\n",
    "        self.alpha = alpha\n",
    "        self.m = None\n",
    "        self.b = None\n",
    "\n",
    "    def fit(self,X_train,y_train):\n",
    "        num = 0\n",
    "        den = 0\n",
    "        for i in range(X_train.shape[0]):\n",
    "            num += ((y_train[i]-y_train.mean()) *(X_train[i]-X_train.mean()))\n",
    "            den +=((X_train[i]-X_train.mean())*2)\n",
    "        self.m = num/(den+self.alpha)\n",
    "        self.b = y_train.mean() - (self.m*X_train.mean())\n",
    "        print(self.m)\n",
    "        print(self.b)\n",
    "\n",
    "cl = ridge(alpha = 0.0001)\n",
    "cl.fit(X_train,y_train)\n",
    "\n",
    "\n",
    "class MeraRidge:\n",
    "    \n",
    "    def __init__(self,alpha=0.1):\n",
    "        self.alpha = alpha\n",
    "        self.m = None\n",
    "        self.b = None\n",
    "        \n",
    "    def fit(self,X_train,y_train):\n",
    "        \n",
    "        num = 0\n",
    "        den = 0\n",
    "        \n",
    "        for i in range(X_train.shape[0]):\n",
    "            num = num + (y_train[i] - y_train.mean())*(X_train[i] - X_train.mean())\n",
    "            den = den + (X_train[i] - X_train.mean())*(X_train[i] - X_train.mean())\n",
    "        \n",
    "        self.m = num/(den + self.alpha)\n",
    "        self.b = y_train.mean() - (self.m*X_train.mean())\n",
    "        print(self.m,self.b)\n",
    "    \n",
    "    def predict(X_test):\n",
    "        pass"
   ]
  },
  {
   "cell_type": "code",
   "execution_count": null,
   "id": "bb98fa1a-296a-4e2f-85b7-9b9187decaef",
   "metadata": {},
   "outputs": [],
   "source": []
  },
  {
   "cell_type": "code",
   "execution_count": 69,
   "id": "bc84ba05-80a5-4a3e-8631-b144543a00d8",
   "metadata": {},
   "outputs": [
    {
     "name": "stdout",
     "output_type": "stream",
     "text": [
      "[27.79608452] [-2.29287514]\n"
     ]
    }
   ],
   "source": []
  }
 ],
 "metadata": {
  "kernelspec": {
   "display_name": "Python 3 (ipykernel)",
   "language": "python",
   "name": "python3"
  },
  "language_info": {
   "codemirror_mode": {
    "name": "ipython",
    "version": 3
   },
   "file_extension": ".py",
   "mimetype": "text/x-python",
   "name": "python",
   "nbconvert_exporter": "python",
   "pygments_lexer": "ipython3",
   "version": "3.11.7"
  }
 },
 "nbformat": 4,
 "nbformat_minor": 5
}
