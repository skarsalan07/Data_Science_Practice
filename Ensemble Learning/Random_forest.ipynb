{
 "cells": [
  {
   "cell_type": "code",
   "execution_count": 2,
   "id": "32775920-cc20-4aec-ae90-964c501e80a2",
   "metadata": {},
   "outputs": [],
   "source": [
    "from sklearn.datasets import make_classification\n",
    "import pandas as pd\n",
    "\n",
    "# Generate synthetic classification data\n",
    "X, y = make_classification(\n",
    "    n_samples=1000,     # number of rows (samples)\n",
    "    n_features=10,      # total number of features\n",
    "    n_informative=5,    # number of useful features\n",
    "    n_redundant=2,      # number of redundant features\n",
    "    n_classes=2,        # binary classification (0 or 1)\n",
    "    random_state=42     # for reproducibility\n",
    ")"
   ]
  },
  {
   "cell_type": "code",
   "execution_count": 14,
   "id": "46719302-f9d6-4a47-8858-a09a990521d7",
   "metadata": {},
   "outputs": [
    {
     "data": {
      "text/plain": [
       "1"
      ]
     },
     "execution_count": 14,
     "metadata": {},
     "output_type": "execute_result"
    }
   ],
   "source": [
    "from sklearn.ensemble import RandomForestClassifier\n",
    "from sklearn.model_selection import train_test_split\n",
    "X_train,X_test,y_train,y_test = train_test_split(X,y,test_size=0.2,random_state=42)\n",
    "\n",
    "\n",
    "y_train[0]"
   ]
  },
  {
   "cell_type": "code",
   "execution_count": 6,
   "id": "bc669be0-8cbe-4574-9b55-6ed1b27dc792",
   "metadata": {},
   "outputs": [],
   "source": [
    "random_forest = RandomForestClassifier(n_estimators=100,max_features='sqrt',random_state=42)"
   ]
  },
  {
   "cell_type": "code",
   "execution_count": 21,
   "id": "612120cc-2a53-438f-938b-2c6d291be971",
   "metadata": {},
   "outputs": [],
   "source": [
    "random_forest.fit(X_train,y_train)\n",
    "y_pred = random_forest.predict(X_test)"
   ]
  },
  {
   "cell_type": "code",
   "execution_count": 23,
   "id": "cf052997-60fd-4848-9b5a-d55d952e4288",
   "metadata": {},
   "outputs": [],
   "source": [
    "output = random_forest.predict([[ 0.37196708, -0.06700674,  0.47999699,  1.62348002, -1.49099596,\n",
    "        1.47007556,  1.09915068,  1.21792714, -0.24096058, -2.37356983]])"
   ]
  },
  {
   "cell_type": "code",
   "execution_count": 22,
   "id": "8f5dbcf8-fdde-444b-bf4e-37676fac384f",
   "metadata": {},
   "outputs": [
    {
     "data": {
      "text/plain": [
       "0.945"
      ]
     },
     "execution_count": 22,
     "metadata": {},
     "output_type": "execute_result"
    }
   ],
   "source": [
    "from sklearn.metrics import accuracy_score\n",
    "accuracy_score(y_pred,y_test)"
   ]
  },
  {
   "cell_type": "code",
   "execution_count": 24,
   "id": "862fec21-0782-463c-adc0-6d9fa3da0dca",
   "metadata": {},
   "outputs": [
    {
     "name": "stdout",
     "output_type": "stream",
     "text": [
      "[1]\n"
     ]
    }
   ],
   "source": [
    "print(output)"
   ]
  }
 ],
 "metadata": {
  "kernelspec": {
   "display_name": "Python 3 (ipykernel)",
   "language": "python",
   "name": "python3"
  },
  "language_info": {
   "codemirror_mode": {
    "name": "ipython",
    "version": 3
   },
   "file_extension": ".py",
   "mimetype": "text/x-python",
   "name": "python",
   "nbconvert_exporter": "python",
   "pygments_lexer": "ipython3",
   "version": "3.11.7"
  }
 },
 "nbformat": 4,
 "nbformat_minor": 5
}
