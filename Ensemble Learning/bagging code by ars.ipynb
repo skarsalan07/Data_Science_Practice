{
 "cells": [
  {
   "cell_type": "code",
   "execution_count": 5,
   "id": "1c3250b4-d3e1-4868-a407-187cf85c1814",
   "metadata": {},
   "outputs": [
    {
     "data": {
      "text/plain": [
       "(1000, 100)"
      ]
     },
     "execution_count": 5,
     "metadata": {},
     "output_type": "execute_result"
    }
   ],
   "source": [
    "from sklearn.datasets import make_classification\n",
    "import matplotlib.pyplot as plt\n",
    "X, y = make_classification(\n",
    "    n_samples=1000,        # 100k samples (big data)\n",
    "    n_features=100,          # 100 features (high dimensional)\n",
    "    n_informative=10,        # 10 informative features\n",
    "    n_redundant=10,          # 10 redundant (correlated) features11\n",
    "    n_clusters_per_class=3,  # multiple clusters per class (complex boundaries)\n",
    "    weights=[0.9, 0.1],      # class imbalance: 90% class 0, 10% class 1\n",
    "    flip_y=0.05,             # 5% label noise\n",
    "    random_state=42\n",
    ")"
   ]
  },
  {
   "cell_type": "code",
   "execution_count": 2,
   "id": "37f55566-ee6e-48f3-8e13-3011472965ea",
   "metadata": {},
   "outputs": [
    {
     "name": "stdout",
     "output_type": "stream",
     "text": [
      "accuracy : 0.85\n",
      "confusion_matrix \n",
      ": [[163  13]\n",
      " [ 17   7]]\n",
      "recall_score \n",
      ": 0.2916666666666667\n",
      "precision_score \n",
      ": 0.35\n",
      "f1_score \n",
      ": 0.31818181818181823\n"
     ]
    }
   ],
   "source": [
    "from sklearn.model_selection import train_test_split\n",
    "from sklearn.metrics import accuracy_score\n",
    "from sklearn.metrics import precision_score\n",
    "from sklearn.metrics import recall_score\n",
    "from sklearn.metrics import f1_score\n",
    "from sklearn.metrics import confusion_matrix\n",
    "X_train,X_test,y_train,y_test = train_test_split(X,y,test_size=0.2)\n",
    "\n",
    "from sklearn.tree import DecisionTreeClassifier\n",
    "dt = DecisionTreeClassifier()\n",
    "dt.fit(X_train,y_train)\n",
    "y_pred = dt.predict(X_test)\n",
    "print(\"accuracy :\",accuracy_score(y_pred,y_test))\n",
    "print(\"confusion_matrix \\n:\",confusion_matrix(y_pred,y_test))\n",
    "print(\"recall_score \\n:\",recall_score(y_pred,y_test))\n",
    "print(\"precision_score \\n:\",precision_score(y_pred,y_test))\n",
    "print(\"f1_score \\n:\",f1_score(y_pred,y_test))"
   ]
  },
  {
   "cell_type": "code",
   "execution_count": 3,
   "id": "631b3568-7bde-4cbb-a29a-7584f7cf7504",
   "metadata": {},
   "outputs": [
    {
     "name": "stdout",
     "output_type": "stream",
     "text": [
      "accuracy : 0.91\n",
      "confusion_matrix \n",
      ": [[178  16]\n",
      " [  2   4]]\n",
      "recall_score \n",
      ": 0.6666666666666666\n",
      "precision_score \n",
      ": 0.2\n",
      "f1_score \n",
      ": 0.30769230769230765\n"
     ]
    }
   ],
   "source": [
    "#bagging with replacement  === bootstrap = true\n",
    "from sklearn.ensemble import BaggingClassifier\n",
    "basemodel = BaggingClassifier(estimator=dt,n_estimators=100,bootstrap=True)\n",
    "basemodel.fit(X_train,y_train)\n",
    "y_pred = basemodel.predict(X_test)\n",
    "print(\"accuracy :\",accuracy_score(y_pred,y_test))\n",
    "print(\"confusion_matrix \\n:\",confusion_matrix(y_pred,y_test))\n",
    "print(\"recall_score \\n:\",recall_score(y_pred,y_test))\n",
    "print(\"precision_score \\n:\",precision_score(y_pred,y_test))\n",
    "print(\"f1_score \\n:\",f1_score(y_pred,y_test))"
   ]
  },
  {
   "cell_type": "code",
   "execution_count": 4,
   "id": "7c82e444-b9ab-48b4-b99f-a8ada32c865f",
   "metadata": {},
   "outputs": [
    {
     "name": "stdout",
     "output_type": "stream",
     "text": [
      "accuracy : 0.875\n",
      "confusion_matrix \n",
      ": [[168  13]\n",
      " [ 12   7]]\n",
      "recall_score \n",
      ": 0.3684210526315789\n",
      "precision_score \n",
      ": 0.35\n",
      "f1_score \n",
      ": 0.358974358974359\n"
     ]
    }
   ],
   "source": [
    "#bagging with without replacement  === bootstrap = False or bydefault\n",
    "from sklearn.ensemble import BaggingClassifier\n",
    "basemodel = BaggingClassifier(estimator=dt,n_estimators=100,bootstrap=False)\n",
    "basemodel.fit(X_train,y_train)\n",
    "y_pred = basemodel.predict(X_test)\n",
    "print(\"accuracy :\",accuracy_score(y_pred,y_test))\n",
    "print(\"confusion_matrix \\n:\",confusion_matrix(y_pred,y_test))\n",
    "print(\"recall_score \\n:\",recall_score(y_pred,y_test))\n",
    "print(\"precision_score \\n:\",precision_score(y_pred,y_test))\n",
    "print(\"f1_score \\n:\",f1_score(y_pred,y_test))"
   ]
  }
 ],
 "metadata": {
  "kernelspec": {
   "display_name": "Python 3 (ipykernel)",
   "language": "python",
   "name": "python3"
  },
  "language_info": {
   "codemirror_mode": {
    "name": "ipython",
    "version": 3
   },
   "file_extension": ".py",
   "mimetype": "text/x-python",
   "name": "python",
   "nbconvert_exporter": "python",
   "pygments_lexer": "ipython3",
   "version": "3.11.7"
  }
 },
 "nbformat": 4,
 "nbformat_minor": 5
}
