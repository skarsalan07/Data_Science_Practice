{
 "cells": [
  {
   "cell_type": "code",
   "execution_count": 1,
   "id": "5390ab0c-ad5c-444c-bebb-af38ecad4758",
   "metadata": {},
   "outputs": [],
   "source": [
    "from sklearn.datasets import make_classification\n",
    "import pandas as pd\n",
    "from sklearn.model_selection import train_test_split\n",
    "\n",
    "# Step 1: Create synthetic classification data\n",
    "X, y = make_classification(\n",
    "    n_samples=1000,     # number of rows\n",
    "    n_features=30,      # number of features (columns)\n",
    "    n_informative=5,    # number of informative features\n",
    "    n_redundant=2,      # number of redundant features\n",
    "    n_classes=5,        # binary classification (change to 3 for multiclass)\n",
    "    random_state=42\n",
    ")\n",
    "\n",
    "# Step 2: Convert to DataFrame\n",
    "feature_names = [f\"feature_{i}\" for i in range(X.shape[1])]\n",
    "df = pd.DataFrame(X, columns=feature_names)\n",
    "df[\"target\"] = y\n",
    "\n",
    "# Step 3: Split into train and test\n",
    "train, test = train_test_split(df, test_size=0.2, random_state=42)\n",
    "\n",
    "# Step 4: Separate X and y\n",
    "X_train = train.drop(\"target\", axis=1)\n",
    "y_train = train[\"target\"]\n",
    "\n",
    "X_test = test.drop(\"target\", axis=1)\n",
    "y_test = test[\"target\"]\n"
   ]
  },
  {
   "cell_type": "code",
   "execution_count": 12,
   "id": "3d139428-8fca-4c84-b92b-fdce28c02b01",
   "metadata": {},
   "outputs": [
    {
     "name": "stdout",
     "output_type": "stream",
     "text": [
      "(30,)\n"
     ]
    }
   ],
   "source": [
    "from sklearn.ensemble import RandomForestClassifier\n",
    "rfc = RandomForestClassifier()\n",
    "rfc.fit(X_train,y_train)\n",
    "print((rfc.feature_importances_).shape)"
   ]
  },
  {
   "cell_type": "code",
   "execution_count": 6,
   "id": "ea859668-44dc-41f9-9c87-e426be64cf46",
   "metadata": {},
   "outputs": [
    {
     "name": "stdout",
     "output_type": "stream",
     "text": [
      "[0.00535209 0.         0.0150757  0.00761181 0.05641475 0.01612915\n",
      " 0.02144544 0.09706854 0.00982103 0.18183383 0.00856478 0.0082842\n",
      " 0.02577661 0.0029957  0.01718794 0.01584111 0.01133047 0.0129854\n",
      " 0.00846201 0.00586063 0.0181348  0.11459801 0.18487993 0.01102873\n",
      " 0.08489959 0.00786115 0.00859459 0.00486159 0.03139986 0.00570057]\n"
     ]
    }
   ],
   "source": [
    "from sklearn.tree import DecisionTreeClassifier\n",
    "dt = DecisionTreeClassifier()\n",
    "dt.fit(X_train,y_train)\n",
    "print((dt.feature_importances_))"
   ]
  }
 ],
 "metadata": {
  "kernelspec": {
   "display_name": "Python 3 (ipykernel)",
   "language": "python",
   "name": "python3"
  },
  "language_info": {
   "codemirror_mode": {
    "name": "ipython",
    "version": 3
   },
   "file_extension": ".py",
   "mimetype": "text/x-python",
   "name": "python",
   "nbconvert_exporter": "python",
   "pygments_lexer": "ipython3",
   "version": "3.11.7"
  }
 },
 "nbformat": 4,
 "nbformat_minor": 5
}
