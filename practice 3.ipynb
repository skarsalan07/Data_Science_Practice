{
 "cells": [
  {
   "cell_type": "code",
   "execution_count": 36,
   "id": "cd918e39-8404-4799-b06b-5481b4fc37c6",
   "metadata": {},
   "outputs": [],
   "source": [
    "from sklearn.datasets import make_regression\n",
    "import pandas as pd \n",
    "import numpy as np \n",
    "import plotly.express as px\n",
    "import plotly.graph_objects as go\n",
    "from sklearn.metrics import mean_absolute_error,mean_squared_error,r2_score"
   ]
  },
  {
   "cell_type": "code",
   "execution_count": 37,
   "id": "07bc5d09-7ed8-4a6a-83ab-5fd00df9f708",
   "metadata": {},
   "outputs": [],
   "source": [
    "X,y = make_regression(n_samples=100,n_features=2,n_targets=1,noise=50)\n",
    "\n",
    "df = pd.DataFrame({\"Feature1\":X[:,0],\"Feature2\":X[:,1],\"Output\":y})"
   ]
  },
  {
   "cell_type": "code",
   "execution_count": 39,
   "id": "678833ef-be1a-4446-a06a-b4c48564fb09",
   "metadata": {},
   "outputs": [
    {
     "data": {
      "application/vnd.plotly.v1+json": {
       "config": {
        "plotlyServerURL": "https://plot.ly"
       },
       "data": [
        {
         "hovertemplate": "Feature1=%{x}<br>Feature2=%{y}<br>Output=%{z}<extra></extra>",
         "legendgroup": "",
         "marker": {
          "color": "#636efa",
          "symbol": "circle"
         },
         "mode": "markers",
         "name": "",
         "scene": "scene",
         "showlegend": false,
         "type": "scatter3d",
         "x": [
          -0.27658994034113277,
          -0.029628882483624105,
          -0.604069417388042,
          0.014558112380102657,
          -1.117950319446276,
          -1.5842547674981926,
          -1.189838534535784,
          -0.4762609322961276,
          -0.26218033515073247,
          0.42665294679080124,
          0.1391161780089837,
          1.074504454904493,
          -0.19040002492967775,
          0.8614588695964708,
          -1.57514322799467,
          -0.03977943791756044,
          -0.3548034682026533,
          -0.30734675521973265,
          0.6153461846988962,
          1.2867462320894654,
          -0.5609145743993973,
          -0.661355266143399,
          -0.29334010886629874,
          -1.3090295460744,
          0.09650918955965036,
          0.7556192395627471,
          -0.3916892733040622,
          -0.7771390166007992,
          0.49804109826862303,
          -0.6610093752538586,
          0.9900798465858722,
          0.8937925673834325,
          -0.747344901034119,
          1.0737883355201248,
          -1.1531592086507638,
          0.04596736021529333,
          -1.210178011678493,
          -1.4581709272139805,
          0.018968537548343094,
          -0.1703010924286286,
          0.2106137569713271,
          0.10844305105918374,
          1.898975041200927,
          0.5793715472503352,
          0.5742280345443935,
          -0.9075813207938845,
          0.24642232470891068,
          -0.3575790572454926,
          -1.3036011339400726,
          -0.5119696909244495,
          -0.6009923684798434,
          -2.192999373122958,
          0.10696313754286615,
          -0.5836967121591464,
          -0.020027094949596373,
          0.21789299023897882,
          -0.7733766938700041,
          1.0694407821744614,
          1.257612785916697,
          0.46569814182513514,
          1.0561656220376265,
          -0.573371621833367,
          2.0877956313894424,
          -1.1668953424692254,
          -0.5629231749880353,
          -0.5877515467300777,
          0.19807073022120647,
          1.1299525601695684,
          -0.8826316140851985,
          1.262694871230049,
          -0.17223142633167463,
          0.952816319346135,
          0.4039808260192115,
          0.5140079565622248,
          -0.5050649742625148,
          -2.04267481360119,
          -0.13483341131905052,
          -0.33602663834012153,
          0.8664189952487519,
          -1.4533168909428953,
          -0.9369549602038825,
          0.09771912550215867,
          0.15780920769445336,
          1.3477008807496604,
          -1.8692790769562952,
          -0.2434518780194895,
          0.7368790246793738,
          0.7181847551413206,
          0.23451771552947207,
          0.5161019692255324,
          -2.000027442938242,
          -0.4509990408329638,
          2.1502070438137046,
          0.24551886909759818,
          0.6895884824404638,
          -0.439744299364823,
          -1.370496854713091,
          0.5183901159815292,
          -0.5039455274126662,
          0.6274420194403901
         ],
         "y": [
          0.6367921076631412,
          -0.9559023102086228,
          0.5218742509245055,
          -2.1179178427767997,
          0.6641397242412288,
          -0.7345412856166637,
          -3.188890904870952,
          0.46730429025448306,
          -0.5115326917516584,
          0.7091805095008792,
          -0.12675313282031153,
          2.4023627309876643,
          -0.8827806476612491,
          -0.344849638197043,
          0.6367319600789824,
          -0.40673540148457743,
          0.5729599076312734,
          0.27496927450769326,
          -1.1728698680222316,
          -0.009234249491854448,
          1.3293933167528058,
          0.8856801296565667,
          1.4654024007395934,
          -0.9931871629153937,
          0.6985048249118975,
          0.3240738742338418,
          1.2686965762855917,
          0.002811436651685602,
          -0.49330072789639434,
          -0.8005470138033515,
          -0.37428722245156154,
          -1.198127263802586,
          1.1369481293088712,
          -0.28980131319788877,
          1.4722247950707914,
          1.6249728382968467,
          -1.2999383803099387,
          -0.0039861316836230145,
          0.16444000246349413,
          -0.3552494781602641,
          1.3668517495116292,
          0.022952848597029996,
          -2.287086694349961,
          -0.6044230138287225,
          -0.26433310265022947,
          -1.384797510825996,
          -0.9274442278627708,
          0.09996302469898927,
          0.4544258696167967,
          0.09278035013278417,
          0.9012329733122914,
          0.8579491852730899,
          -1.3802861881155568,
          -0.2686073830278161,
          -0.5045923287866054,
          -0.2644748823237698,
          0.6652871179169165,
          -0.7445548813294475,
          -1.1451193147381058,
          0.173306701343539,
          -0.6159126738391767,
          0.6280922291312547,
          -0.9411519664280995,
          1.866445055409276,
          -1.4155286338359065,
          0.4438187439307188,
          0.01992507266904832,
          0.5390374050139257,
          0.313023569409141,
          -0.4554247994602488,
          -1.1407744986613706,
          -1.61131163454479,
          -2.1801336428494706,
          0.22281107138679204,
          0.451377562385964,
          1.2043056010510378,
          -0.35905017526274746,
          -0.9625237282168069,
          -1.2367237558203126,
          0.41261087839460225,
          1.508620790025862,
          -0.9887932109728135,
          -0.772836834851413,
          -1.1400461958248842,
          -0.9979034610462026,
          0.34891155928073075,
          -1.8445171065254178,
          0.6115484237853829,
          -0.22864151624459167,
          0.6593262666167267,
          -0.08663244952343854,
          -0.36516653250568254,
          -0.15648736837235894,
          -1.5085947245587281,
          -1.3849016955956632,
          0.28438809677617044,
          0.1918578086747855,
          -1.9438310329811352,
          -0.05472236469063533,
          0.24822966470424873
         ],
         "z": [
          22.499226680599342,
          -57.73577061072815,
          -35.51122174805314,
          -169.21948621724601,
          47.15971873717656,
          -36.78317041282416,
          -338.2740040126405,
          133.01468533077787,
          -149.6148597214739,
          134.78088414186175,
          32.18879124793902,
          266.80656793864574,
          -11.66125112460675,
          79.53072419272866,
          12.940405369136295,
          -14.366896983554689,
          54.017843177612164,
          -105.53958439957304,
          -107.04006662934383,
          57.74710912220675,
          40.8794994031052,
          113.84199825679738,
          151.75031383863617,
          -179.98165368562567,
          175.6647612092359,
          99.94521546020604,
          150.84711274496465,
          -82.59579504835341,
          -47.91685337694736,
          -39.33575688520806,
          -52.35027666538406,
          -213.0122580595642,
          114.59469462555163,
          46.37413028313128,
          59.961493945421715,
          251.9179565091386,
          -204.70240689570662,
          -68.80257814672592,
          106.82360289856007,
          23.306658141983633,
          35.761642382897406,
          -35.98842164474413,
          -227.57483192016105,
          25.981736946923903,
          15.309979255726848,
          -211.9619086865699,
          -74.5758243318061,
          93.19363798147359,
          51.846014587518695,
          -60.18474506279851,
          84.33451529547271,
          29.3643422296049,
          -126.73391083537392,
          -50.44771942947609,
          21.25443841270547,
          -8.850571048258901,
          -54.43345965397641,
          -80.77291745328475,
          -66.37239157005666,
          17.7229141304531,
          17.443808402520965,
          43.76478194360186,
          42.425206841195205,
          173.90246626896203,
          -140.24388051383303,
          90.85482188603558,
          -43.83936653579488,
          2.063208845623919,
          -2.2754442097134007,
          -46.97550234807403,
          -141.73965902906716,
          -171.41844998879677,
          -151.9685677846475,
          39.7888950134026,
          42.41189383158422,
          -34.30584374340009,
          -32.286390754137905,
          -113.72685736349341,
          -130.57999937409167,
          -22.22294939316282,
          180.18841947055495,
          -147.2472104477078,
          -61.463407902061505,
          -36.318492110585915,
          -140.886840336058,
          126.46328798933519,
          -221.42479770095002,
          62.197046613963565,
          -87.5817345760501,
          64.76459781834342,
          -1.4460126846634438,
          -98.09285466061696,
          56.690253422086755,
          -39.1925787223913,
          -92.04571120026202,
          65.11256576260828,
          -109.6072583521985,
          -203.33479826480394,
          -15.754130871923886,
          34.88116085180113
         ]
        }
       ],
       "layout": {
        "autosize": true,
        "legend": {
         "tracegroupgap": 0
        },
        "margin": {
         "t": 60
        },
        "scene": {
         "aspectmode": "auto",
         "aspectratio": {
          "x": 1,
          "y": 1,
          "z": 1
         },
         "camera": {
          "center": {
           "x": 0,
           "y": 0,
           "z": 0
          },
          "eye": {
           "x": -3.2218528313157657,
           "y": -2.505317447608397,
           "z": -0.09931532805282496
          },
          "projection": {
           "type": "perspective"
          },
          "up": {
           "x": 0,
           "y": 0,
           "z": 1
          }
         },
         "domain": {
          "x": [
           0,
           1
          ],
          "y": [
           0,
           1
          ]
         },
         "xaxis": {
          "title": {
           "text": "Feature1"
          },
          "type": "linear"
         },
         "yaxis": {
          "title": {
           "text": "Feature2"
          },
          "type": "linear"
         },
         "zaxis": {
          "title": {
           "text": "Output"
          },
          "type": "linear"
         }
        },
        "template": {
         "data": {
          "bar": [
           {
            "error_x": {
             "color": "#2a3f5f"
            },
            "error_y": {
             "color": "#2a3f5f"
            },
            "marker": {
             "line": {
              "color": "#E5ECF6",
              "width": 0.5
             },
             "pattern": {
              "fillmode": "overlay",
              "size": 10,
              "solidity": 0.2
             }
            },
            "type": "bar"
           }
          ],
          "barpolar": [
           {
            "marker": {
             "line": {
              "color": "#E5ECF6",
              "width": 0.5
             },
             "pattern": {
              "fillmode": "overlay",
              "size": 10,
              "solidity": 0.2
             }
            },
            "type": "barpolar"
           }
          ],
          "carpet": [
           {
            "aaxis": {
             "endlinecolor": "#2a3f5f",
             "gridcolor": "white",
             "linecolor": "white",
             "minorgridcolor": "white",
             "startlinecolor": "#2a3f5f"
            },
            "baxis": {
             "endlinecolor": "#2a3f5f",
             "gridcolor": "white",
             "linecolor": "white",
             "minorgridcolor": "white",
             "startlinecolor": "#2a3f5f"
            },
            "type": "carpet"
           }
          ],
          "choropleth": [
           {
            "colorbar": {
             "outlinewidth": 0,
             "ticks": ""
            },
            "type": "choropleth"
           }
          ],
          "contour": [
           {
            "colorbar": {
             "outlinewidth": 0,
             "ticks": ""
            },
            "colorscale": [
             [
              0,
              "#0d0887"
             ],
             [
              0.1111111111111111,
              "#46039f"
             ],
             [
              0.2222222222222222,
              "#7201a8"
             ],
             [
              0.3333333333333333,
              "#9c179e"
             ],
             [
              0.4444444444444444,
              "#bd3786"
             ],
             [
              0.5555555555555556,
              "#d8576b"
             ],
             [
              0.6666666666666666,
              "#ed7953"
             ],
             [
              0.7777777777777778,
              "#fb9f3a"
             ],
             [
              0.8888888888888888,
              "#fdca26"
             ],
             [
              1,
              "#f0f921"
             ]
            ],
            "type": "contour"
           }
          ],
          "contourcarpet": [
           {
            "colorbar": {
             "outlinewidth": 0,
             "ticks": ""
            },
            "type": "contourcarpet"
           }
          ],
          "heatmap": [
           {
            "colorbar": {
             "outlinewidth": 0,
             "ticks": ""
            },
            "colorscale": [
             [
              0,
              "#0d0887"
             ],
             [
              0.1111111111111111,
              "#46039f"
             ],
             [
              0.2222222222222222,
              "#7201a8"
             ],
             [
              0.3333333333333333,
              "#9c179e"
             ],
             [
              0.4444444444444444,
              "#bd3786"
             ],
             [
              0.5555555555555556,
              "#d8576b"
             ],
             [
              0.6666666666666666,
              "#ed7953"
             ],
             [
              0.7777777777777778,
              "#fb9f3a"
             ],
             [
              0.8888888888888888,
              "#fdca26"
             ],
             [
              1,
              "#f0f921"
             ]
            ],
            "type": "heatmap"
           }
          ],
          "heatmapgl": [
           {
            "colorbar": {
             "outlinewidth": 0,
             "ticks": ""
            },
            "colorscale": [
             [
              0,
              "#0d0887"
             ],
             [
              0.1111111111111111,
              "#46039f"
             ],
             [
              0.2222222222222222,
              "#7201a8"
             ],
             [
              0.3333333333333333,
              "#9c179e"
             ],
             [
              0.4444444444444444,
              "#bd3786"
             ],
             [
              0.5555555555555556,
              "#d8576b"
             ],
             [
              0.6666666666666666,
              "#ed7953"
             ],
             [
              0.7777777777777778,
              "#fb9f3a"
             ],
             [
              0.8888888888888888,
              "#fdca26"
             ],
             [
              1,
              "#f0f921"
             ]
            ],
            "type": "heatmapgl"
           }
          ],
          "histogram": [
           {
            "marker": {
             "pattern": {
              "fillmode": "overlay",
              "size": 10,
              "solidity": 0.2
             }
            },
            "type": "histogram"
           }
          ],
          "histogram2d": [
           {
            "colorbar": {
             "outlinewidth": 0,
             "ticks": ""
            },
            "colorscale": [
             [
              0,
              "#0d0887"
             ],
             [
              0.1111111111111111,
              "#46039f"
             ],
             [
              0.2222222222222222,
              "#7201a8"
             ],
             [
              0.3333333333333333,
              "#9c179e"
             ],
             [
              0.4444444444444444,
              "#bd3786"
             ],
             [
              0.5555555555555556,
              "#d8576b"
             ],
             [
              0.6666666666666666,
              "#ed7953"
             ],
             [
              0.7777777777777778,
              "#fb9f3a"
             ],
             [
              0.8888888888888888,
              "#fdca26"
             ],
             [
              1,
              "#f0f921"
             ]
            ],
            "type": "histogram2d"
           }
          ],
          "histogram2dcontour": [
           {
            "colorbar": {
             "outlinewidth": 0,
             "ticks": ""
            },
            "colorscale": [
             [
              0,
              "#0d0887"
             ],
             [
              0.1111111111111111,
              "#46039f"
             ],
             [
              0.2222222222222222,
              "#7201a8"
             ],
             [
              0.3333333333333333,
              "#9c179e"
             ],
             [
              0.4444444444444444,
              "#bd3786"
             ],
             [
              0.5555555555555556,
              "#d8576b"
             ],
             [
              0.6666666666666666,
              "#ed7953"
             ],
             [
              0.7777777777777778,
              "#fb9f3a"
             ],
             [
              0.8888888888888888,
              "#fdca26"
             ],
             [
              1,
              "#f0f921"
             ]
            ],
            "type": "histogram2dcontour"
           }
          ],
          "mesh3d": [
           {
            "colorbar": {
             "outlinewidth": 0,
             "ticks": ""
            },
            "type": "mesh3d"
           }
          ],
          "parcoords": [
           {
            "line": {
             "colorbar": {
              "outlinewidth": 0,
              "ticks": ""
             }
            },
            "type": "parcoords"
           }
          ],
          "pie": [
           {
            "automargin": true,
            "type": "pie"
           }
          ],
          "scatter": [
           {
            "fillpattern": {
             "fillmode": "overlay",
             "size": 10,
             "solidity": 0.2
            },
            "type": "scatter"
           }
          ],
          "scatter3d": [
           {
            "line": {
             "colorbar": {
              "outlinewidth": 0,
              "ticks": ""
             }
            },
            "marker": {
             "colorbar": {
              "outlinewidth": 0,
              "ticks": ""
             }
            },
            "type": "scatter3d"
           }
          ],
          "scattercarpet": [
           {
            "marker": {
             "colorbar": {
              "outlinewidth": 0,
              "ticks": ""
             }
            },
            "type": "scattercarpet"
           }
          ],
          "scattergeo": [
           {
            "marker": {
             "colorbar": {
              "outlinewidth": 0,
              "ticks": ""
             }
            },
            "type": "scattergeo"
           }
          ],
          "scattergl": [
           {
            "marker": {
             "colorbar": {
              "outlinewidth": 0,
              "ticks": ""
             }
            },
            "type": "scattergl"
           }
          ],
          "scattermapbox": [
           {
            "marker": {
             "colorbar": {
              "outlinewidth": 0,
              "ticks": ""
             }
            },
            "type": "scattermapbox"
           }
          ],
          "scatterpolar": [
           {
            "marker": {
             "colorbar": {
              "outlinewidth": 0,
              "ticks": ""
             }
            },
            "type": "scatterpolar"
           }
          ],
          "scatterpolargl": [
           {
            "marker": {
             "colorbar": {
              "outlinewidth": 0,
              "ticks": ""
             }
            },
            "type": "scatterpolargl"
           }
          ],
          "scatterternary": [
           {
            "marker": {
             "colorbar": {
              "outlinewidth": 0,
              "ticks": ""
             }
            },
            "type": "scatterternary"
           }
          ],
          "surface": [
           {
            "colorbar": {
             "outlinewidth": 0,
             "ticks": ""
            },
            "colorscale": [
             [
              0,
              "#0d0887"
             ],
             [
              0.1111111111111111,
              "#46039f"
             ],
             [
              0.2222222222222222,
              "#7201a8"
             ],
             [
              0.3333333333333333,
              "#9c179e"
             ],
             [
              0.4444444444444444,
              "#bd3786"
             ],
             [
              0.5555555555555556,
              "#d8576b"
             ],
             [
              0.6666666666666666,
              "#ed7953"
             ],
             [
              0.7777777777777778,
              "#fb9f3a"
             ],
             [
              0.8888888888888888,
              "#fdca26"
             ],
             [
              1,
              "#f0f921"
             ]
            ],
            "type": "surface"
           }
          ],
          "table": [
           {
            "cells": {
             "fill": {
              "color": "#EBF0F8"
             },
             "line": {
              "color": "white"
             }
            },
            "header": {
             "fill": {
              "color": "#C8D4E3"
             },
             "line": {
              "color": "white"
             }
            },
            "type": "table"
           }
          ]
         },
         "layout": {
          "annotationdefaults": {
           "arrowcolor": "#2a3f5f",
           "arrowhead": 0,
           "arrowwidth": 1
          },
          "autotypenumbers": "strict",
          "coloraxis": {
           "colorbar": {
            "outlinewidth": 0,
            "ticks": ""
           }
          },
          "colorscale": {
           "diverging": [
            [
             0,
             "#8e0152"
            ],
            [
             0.1,
             "#c51b7d"
            ],
            [
             0.2,
             "#de77ae"
            ],
            [
             0.3,
             "#f1b6da"
            ],
            [
             0.4,
             "#fde0ef"
            ],
            [
             0.5,
             "#f7f7f7"
            ],
            [
             0.6,
             "#e6f5d0"
            ],
            [
             0.7,
             "#b8e186"
            ],
            [
             0.8,
             "#7fbc41"
            ],
            [
             0.9,
             "#4d9221"
            ],
            [
             1,
             "#276419"
            ]
           ],
           "sequential": [
            [
             0,
             "#0d0887"
            ],
            [
             0.1111111111111111,
             "#46039f"
            ],
            [
             0.2222222222222222,
             "#7201a8"
            ],
            [
             0.3333333333333333,
             "#9c179e"
            ],
            [
             0.4444444444444444,
             "#bd3786"
            ],
            [
             0.5555555555555556,
             "#d8576b"
            ],
            [
             0.6666666666666666,
             "#ed7953"
            ],
            [
             0.7777777777777778,
             "#fb9f3a"
            ],
            [
             0.8888888888888888,
             "#fdca26"
            ],
            [
             1,
             "#f0f921"
            ]
           ],
           "sequentialminus": [
            [
             0,
             "#0d0887"
            ],
            [
             0.1111111111111111,
             "#46039f"
            ],
            [
             0.2222222222222222,
             "#7201a8"
            ],
            [
             0.3333333333333333,
             "#9c179e"
            ],
            [
             0.4444444444444444,
             "#bd3786"
            ],
            [
             0.5555555555555556,
             "#d8576b"
            ],
            [
             0.6666666666666666,
             "#ed7953"
            ],
            [
             0.7777777777777778,
             "#fb9f3a"
            ],
            [
             0.8888888888888888,
             "#fdca26"
            ],
            [
             1,
             "#f0f921"
            ]
           ]
          },
          "colorway": [
           "#636efa",
           "#EF553B",
           "#00cc96",
           "#ab63fa",
           "#FFA15A",
           "#19d3f3",
           "#FF6692",
           "#B6E880",
           "#FF97FF",
           "#FECB52"
          ],
          "font": {
           "color": "#2a3f5f"
          },
          "geo": {
           "bgcolor": "white",
           "lakecolor": "white",
           "landcolor": "#E5ECF6",
           "showlakes": true,
           "showland": true,
           "subunitcolor": "white"
          },
          "hoverlabel": {
           "align": "left"
          },
          "hovermode": "closest",
          "mapbox": {
           "style": "light"
          },
          "paper_bgcolor": "white",
          "plot_bgcolor": "#E5ECF6",
          "polar": {
           "angularaxis": {
            "gridcolor": "white",
            "linecolor": "white",
            "ticks": ""
           },
           "bgcolor": "#E5ECF6",
           "radialaxis": {
            "gridcolor": "white",
            "linecolor": "white",
            "ticks": ""
           }
          },
          "scene": {
           "xaxis": {
            "backgroundcolor": "#E5ECF6",
            "gridcolor": "white",
            "gridwidth": 2,
            "linecolor": "white",
            "showbackground": true,
            "ticks": "",
            "zerolinecolor": "white"
           },
           "yaxis": {
            "backgroundcolor": "#E5ECF6",
            "gridcolor": "white",
            "gridwidth": 2,
            "linecolor": "white",
            "showbackground": true,
            "ticks": "",
            "zerolinecolor": "white"
           },
           "zaxis": {
            "backgroundcolor": "#E5ECF6",
            "gridcolor": "white",
            "gridwidth": 2,
            "linecolor": "white",
            "showbackground": true,
            "ticks": "",
            "zerolinecolor": "white"
           }
          },
          "shapedefaults": {
           "line": {
            "color": "#2a3f5f"
           }
          },
          "ternary": {
           "aaxis": {
            "gridcolor": "white",
            "linecolor": "white",
            "ticks": ""
           },
           "baxis": {
            "gridcolor": "white",
            "linecolor": "white",
            "ticks": ""
           },
           "bgcolor": "#E5ECF6",
           "caxis": {
            "gridcolor": "white",
            "linecolor": "white",
            "ticks": ""
           }
          },
          "title": {
           "x": 0.05
          },
          "xaxis": {
           "automargin": true,
           "gridcolor": "white",
           "linecolor": "white",
           "ticks": "",
           "title": {
            "standoff": 15
           },
           "zerolinecolor": "white",
           "zerolinewidth": 2
          },
          "yaxis": {
           "automargin": true,
           "gridcolor": "white",
           "linecolor": "white",
           "ticks": "",
           "title": {
            "standoff": 15
           },
           "zerolinecolor": "white",
           "zerolinewidth": 2
          }
         }
        }
       }
      },
      "image/png": "[encoded data removed]",
      "text/html": [
       "<div>                            <div id=\"6e78eb96-d135-4cd1-96cf-6d506903b396\" class=\"plotly-graph-div\" style=\"height:525px; width:100%;\"></div>            <script type=\"text/javascript\">                require([\"plotly\"], function(Plotly) {                    window.PLOTLYENV=window.PLOTLYENV || {};                                    if (document.getElementById(\"6e78eb96-d135-4cd1-96cf-6d506903b396\")) {                    Plotly.newPlot(                        \"6e78eb96-d135-4cd1-96cf-6d506903b396\",                        [{\"hovertemplate\":\"Feature1=%{x}<br>Feature2=%{y}<br>Output=%{z}<extra></extra>\",\"legendgroup\":\"\",\"marker\":{\"color\":\"#636efa\",\"symbol\":\"circle\"},\"mode\":\"markers\",\"name\":\"\",\"scene\":\"scene\",\"showlegend\":false,\"x\":[-0.27658994034113277,-0.029628882483624105,-0.604069417388042,0.014558112380102657,-1.117950319446276,-1.5842547674981926,-1.189838534535784,-0.4762609322961276,-0.26218033515073247,0.42665294679080124,0.1391161780089837,1.074504454904493,-0.19040002492967775,0.8614588695964708,-1.57514322799467,-0.03977943791756044,-0.3548034682026533,-0.30734675521973265,0.6153461846988962,1.2867462320894654,-0.5609145743993973,-0.661355266143399,-0.29334010886629874,-1.3090295460744,0.09650918955965036,0.7556192395627471,-0.3916892733040622,-0.7771390166007992,0.49804109826862303,-0.6610093752538586,0.9900798465858722,0.8937925673834325,-0.747344901034119,1.0737883355201248,-1.1531592086507638,0.04596736021529333,-1.210178011678493,-1.4581709272139805,0.018968537548343094,-0.1703010924286286,0.2106137569713271,0.10844305105918374,1.898975041200927,0.5793715472503352,0.5742280345443935,-0.9075813207938845,0.24642232470891068,-0.3575790572454926,-1.3036011339400726,-0.5119696909244495,-0.6009923684798434,-2.192999373122958,0.10696313754286615,-0.5836967121591464,-0.020027094949596373,0.21789299023897882,-0.7733766938700041,1.0694407821744614,1.257612785916697,0.46569814182513514,1.0561656220376265,-0.573371621833367,2.0877956313894424,-1.1668953424692254,-0.5629231749880353,-0.5877515467300777,0.19807073022120647,1.1299525601695684,-0.8826316140851985,1.262694871230049,-0.17223142633167463,0.952816319346135,0.4039808260192115,0.5140079565622248,-0.5050649742625148,-2.04267481360119,-0.13483341131905052,-0.33602663834012153,0.8664189952487519,-1.4533168909428953,-0.9369549602038825,0.09771912550215867,0.15780920769445336,1.3477008807496604,-1.8692790769562952,-0.2434518780194895,0.7368790246793738,0.7181847551413206,0.23451771552947207,0.5161019692255324,-2.000027442938242,-0.4509990408329638,2.1502070438137046,0.24551886909759818,0.6895884824404638,-0.439744299364823,-1.370496854713091,0.5183901159815292,-0.5039455274126662,0.6274420194403901],\"y\":[0.6367921076631412,-0.9559023102086228,0.5218742509245055,-2.1179178427767997,0.6641397242412288,-0.7345412856166637,-3.188890904870952,0.46730429025448306,-0.5115326917516584,0.7091805095008792,-0.12675313282031153,2.4023627309876643,-0.8827806476612491,-0.344849638197043,0.6367319600789824,-0.40673540148457743,0.5729599076312734,0.27496927450769326,-1.1728698680222316,-0.009234249491854448,1.3293933167528058,0.8856801296565667,1.4654024007395934,-0.9931871629153937,0.6985048249118975,0.3240738742338418,1.2686965762855917,0.002811436651685602,-0.49330072789639434,-0.8005470138033515,-0.37428722245156154,-1.198127263802586,1.1369481293088712,-0.28980131319788877,1.4722247950707914,1.6249728382968467,-1.2999383803099387,-0.0039861316836230145,0.16444000246349413,-0.3552494781602641,1.3668517495116292,0.022952848597029996,-2.287086694349961,-0.6044230138287225,-0.26433310265022947,-1.384797510825996,-0.9274442278627708,0.09996302469898927,0.4544258696167967,0.09278035013278417,0.9012329733122914,0.8579491852730899,-1.3802861881155568,-0.2686073830278161,-0.5045923287866054,-0.2644748823237698,0.6652871179169165,-0.7445548813294475,-1.1451193147381058,0.173306701343539,-0.6159126738391767,0.6280922291312547,-0.9411519664280995,1.866445055409276,-1.4155286338359065,0.4438187439307188,0.01992507266904832,0.5390374050139257,0.313023569409141,-0.4554247994602488,-1.1407744986613706,-1.61131163454479,-2.1801336428494706,0.22281107138679204,0.451377562385964,1.2043056010510378,-0.35905017526274746,-0.9625237282168069,-1.2367237558203126,0.41261087839460225,1.508620790025862,-0.9887932109728135,-0.772836834851413,-1.1400461958248842,-0.9979034610462026,0.34891155928073075,-1.8445171065254178,0.6115484237853829,-0.22864151624459167,0.6593262666167267,-0.08663244952343854,-0.36516653250568254,-0.15648736837235894,-1.5085947245587281,-1.3849016955956632,0.28438809677617044,0.1918578086747855,-1.9438310329811352,-0.05472236469063533,0.24822966470424873],\"z\":[22.499226680599342,-57.73577061072815,-35.51122174805314,-169.21948621724601,47.15971873717656,-36.78317041282416,-338.2740040126405,133.01468533077787,-149.6148597214739,134.78088414186175,32.18879124793902,266.80656793864574,-11.66125112460675,79.53072419272866,12.940405369136295,-14.366896983554689,54.017843177612164,-105.53958439957304,-107.04006662934383,57.74710912220675,40.8794994031052,113.84199825679738,151.75031383863617,-179.98165368562567,175.6647612092359,99.94521546020604,150.84711274496465,-82.59579504835341,-47.91685337694736,-39.33575688520806,-52.35027666538406,-213.0122580595642,114.59469462555163,46.37413028313128,59.961493945421715,251.9179565091386,-204.70240689570662,-68.80257814672592,106.82360289856007,23.306658141983633,35.761642382897406,-35.98842164474413,-227.57483192016105,25.981736946923903,15.309979255726848,-211.9619086865699,-74.5758243318061,93.19363798147359,51.846014587518695,-60.18474506279851,84.33451529547271,29.3643422296049,-126.73391083537392,-50.44771942947609,21.25443841270547,-8.850571048258901,-54.43345965397641,-80.77291745328475,-66.37239157005666,17.7229141304531,17.443808402520965,43.76478194360186,42.425206841195205,173.90246626896203,-140.24388051383303,90.85482188603558,-43.83936653579488,2.063208845623919,-2.2754442097134007,-46.97550234807403,-141.73965902906716,-171.41844998879677,-151.9685677846475,39.7888950134026,42.41189383158422,-34.30584374340009,-32.286390754137905,-113.72685736349341,-130.57999937409167,-22.22294939316282,180.18841947055495,-147.2472104477078,-61.463407902061505,-36.318492110585915,-140.886840336058,126.46328798933519,-221.42479770095002,62.197046613963565,-87.5817345760501,64.76459781834342,-1.4460126846634438,-98.09285466061696,56.690253422086755,-39.1925787223913,-92.04571120026202,65.11256576260828,-109.6072583521985,-203.33479826480394,-15.754130871923886,34.88116085180113],\"type\":\"scatter3d\"}],                        {\"template\":{\"data\":{\"histogram2dcontour\":[{\"type\":\"histogram2dcontour\",\"colorbar\":{\"outlinewidth\":0,\"ticks\":\"\"},\"colorscale\":[[0.0,\"#0d0887\"],[0.1111111111111111,\"#46039f\"],[0.2222222222222222,\"#7201a8\"],[0.3333333333333333,\"#9c179e\"],[0.4444444444444444,\"#bd3786\"],[0.5555555555555556,\"#d8576b\"],[0.6666666666666666,\"#ed7953\"],[0.7777777777777778,\"#fb9f3a\"],[0.8888888888888888,\"#fdca26\"],[1.0,\"#f0f921\"]]}],\"choropleth\":[{\"type\":\"choropleth\",\"colorbar\":{\"outlinewidth\":0,\"ticks\":\"\"}}],\"histogram2d\":[{\"type\":\"histogram2d\",\"colorbar\":{\"outlinewidth\":0,\"ticks\":\"\"},\"colorscale\":[[0.0,\"#0d0887\"],[0.1111111111111111,\"#46039f\"],[0.2222222222222222,\"#7201a8\"],[0.3333333333333333,\"#9c179e\"],[0.4444444444444444,\"#bd3786\"],[0.5555555555555556,\"#d8576b\"],[0.6666666666666666,\"#ed7953\"],[0.7777777777777778,\"#fb9f3a\"],[0.8888888888888888,\"#fdca26\"],[1.0,\"#f0f921\"]]}],\"heatmap\":[{\"type\":\"heatmap\",\"colorbar\":{\"outlinewidth\":0,\"ticks\":\"\"},\"colorscale\":[[0.0,\"#0d0887\"],[0.1111111111111111,\"#46039f\"],[0.2222222222222222,\"#7201a8\"],[0.3333333333333333,\"#9c179e\"],[0.4444444444444444,\"#bd3786\"],[0.5555555555555556,\"#d8576b\"],[0.6666666666666666,\"#ed7953\"],[0.7777777777777778,\"#fb9f3a\"],[0.8888888888888888,\"#fdca26\"],[1.0,\"#f0f921\"]]}],\"heatmapgl\":[{\"type\":\"heatmapgl\",\"colorbar\":{\"outlinewidth\":0,\"ticks\":\"\"},\"colorscale\":[[0.0,\"#0d0887\"],[0.1111111111111111,\"#46039f\"],[0.2222222222222222,\"#7201a8\"],[0.3333333333333333,\"#9c179e\"],[0.4444444444444444,\"#bd3786\"],[0.5555555555555556,\"#d8576b\"],[0.6666666666666666,\"#ed7953\"],[0.7777777777777778,\"#fb9f3a\"],[0.8888888888888888,\"#fdca26\"],[1.0,\"#f0f921\"]]}],\"contourcarpet\":[{\"type\":\"contourcarpet\",\"colorbar\":{\"outlinewidth\":0,\"ticks\":\"\"}}],\"contour\":[{\"type\":\"contour\",\"colorbar\":{\"outlinewidth\":0,\"ticks\":\"\"},\"colorscale\":[[0.0,\"#0d0887\"],[0.1111111111111111,\"#46039f\"],[0.2222222222222222,\"#7201a8\"],[0.3333333333333333,\"#9c179e\"],[0.4444444444444444,\"#bd3786\"],[0.5555555555555556,\"#d8576b\"],[0.6666666666666666,\"#ed7953\"],[0.7777777777777778,\"#fb9f3a\"],[0.8888888888888888,\"#fdca26\"],[1.0,\"#f0f921\"]]}],\"surface\":[{\"type\":\"surface\",\"colorbar\":{\"outlinewidth\":0,\"ticks\":\"\"},\"colorscale\":[[0.0,\"#0d0887\"],[0.1111111111111111,\"#46039f\"],[0.2222222222222222,\"#7201a8\"],[0.3333333333333333,\"#9c179e\"],[0.4444444444444444,\"#bd3786\"],[0.5555555555555556,\"#d8576b\"],[0.6666666666666666,\"#ed7953\"],[0.7777777777777778,\"#fb9f3a\"],[0.8888888888888888,\"#fdca26\"],[1.0,\"#f0f921\"]]}],\"mesh3d\":[{\"type\":\"mesh3d\",\"colorbar\":{\"outlinewidth\":0,\"ticks\":\"\"}}],\"scatter\":[{\"fillpattern\":{\"fillmode\":\"overlay\",\"size\":10,\"solidity\":0.2},\"type\":\"scatter\"}],\"parcoords\":[{\"type\":\"parcoords\",\"line\":{\"colorbar\":{\"outlinewidth\":0,\"ticks\":\"\"}}}],\"scatterpolargl\":[{\"type\":\"scatterpolargl\",\"marker\":{\"colorbar\":{\"outlinewidth\":0,\"ticks\":\"\"}}}],\"bar\":[{\"error_x\":{\"color\":\"#2a3f5f\"},\"error_y\":{\"color\":\"#2a3f5f\"},\"marker\":{\"line\":{\"color\":\"#E5ECF6\",\"width\":0.5},\"pattern\":{\"fillmode\":\"overlay\",\"size\":10,\"solidity\":0.2}},\"type\":\"bar\"}],\"scattergeo\":[{\"type\":\"scattergeo\",\"marker\":{\"colorbar\":{\"outlinewidth\":0,\"ticks\":\"\"}}}],\"scatterpolar\":[{\"type\":\"scatterpolar\",\"marker\":{\"colorbar\":{\"outlinewidth\":0,\"ticks\":\"\"}}}],\"histogram\":[{\"marker\":{\"pattern\":{\"fillmode\":\"overlay\",\"size\":10,\"solidity\":0.2}},\"type\":\"histogram\"}],\"scattergl\":[{\"type\":\"scattergl\",\"marker\":{\"colorbar\":{\"outlinewidth\":0,\"ticks\":\"\"}}}],\"scatter3d\":[{\"type\":\"scatter3d\",\"line\":{\"colorbar\":{\"outlinewidth\":0,\"ticks\":\"\"}},\"marker\":{\"colorbar\":{\"outlinewidth\":0,\"ticks\":\"\"}}}],\"scattermapbox\":[{\"type\":\"scattermapbox\",\"marker\":{\"colorbar\":{\"outlinewidth\":0,\"ticks\":\"\"}}}],\"scatterternary\":[{\"type\":\"scatterternary\",\"marker\":{\"colorbar\":{\"outlinewidth\":0,\"ticks\":\"\"}}}],\"scattercarpet\":[{\"type\":\"scattercarpet\",\"marker\":{\"colorbar\":{\"outlinewidth\":0,\"ticks\":\"\"}}}],\"carpet\":[{\"aaxis\":{\"endlinecolor\":\"#2a3f5f\",\"gridcolor\":\"white\",\"linecolor\":\"white\",\"minorgridcolor\":\"white\",\"startlinecolor\":\"#2a3f5f\"},\"baxis\":{\"endlinecolor\":\"#2a3f5f\",\"gridcolor\":\"white\",\"linecolor\":\"white\",\"minorgridcolor\":\"white\",\"startlinecolor\":\"#2a3f5f\"},\"type\":\"carpet\"}],\"table\":[{\"cells\":{\"fill\":{\"color\":\"#EBF0F8\"},\"line\":{\"color\":\"white\"}},\"header\":{\"fill\":{\"color\":\"#C8D4E3\"},\"line\":{\"color\":\"white\"}},\"type\":\"table\"}],\"barpolar\":[{\"marker\":{\"line\":{\"color\":\"#E5ECF6\",\"width\":0.5},\"pattern\":{\"fillmode\":\"overlay\",\"size\":10,\"solidity\":0.2}},\"type\":\"barpolar\"}],\"pie\":[{\"automargin\":true,\"type\":\"pie\"}]},\"layout\":{\"autotypenumbers\":\"strict\",\"colorway\":[\"#636efa\",\"#EF553B\",\"#00cc96\",\"#ab63fa\",\"#FFA15A\",\"#19d3f3\",\"#FF6692\",\"#B6E880\",\"#FF97FF\",\"#FECB52\"],\"font\":{\"color\":\"#2a3f5f\"},\"hovermode\":\"closest\",\"hoverlabel\":{\"align\":\"left\"},\"paper_bgcolor\":\"white\",\"plot_bgcolor\":\"#E5ECF6\",\"polar\":{\"bgcolor\":\"#E5ECF6\",\"angularaxis\":{\"gridcolor\":\"white\",\"linecolor\":\"white\",\"ticks\":\"\"},\"radialaxis\":{\"gridcolor\":\"white\",\"linecolor\":\"white\",\"ticks\":\"\"}},\"ternary\":{\"bgcolor\":\"#E5ECF6\",\"aaxis\":{\"gridcolor\":\"white\",\"linecolor\":\"white\",\"ticks\":\"\"},\"baxis\":{\"gridcolor\":\"white\",\"linecolor\":\"white\",\"ticks\":\"\"},\"caxis\":{\"gridcolor\":\"white\",\"linecolor\":\"white\",\"ticks\":\"\"}},\"coloraxis\":{\"colorbar\":{\"outlinewidth\":0,\"ticks\":\"\"}},\"colorscale\":{\"sequential\":[[0.0,\"#0d0887\"],[0.1111111111111111,\"#46039f\"],[0.2222222222222222,\"#7201a8\"],[0.3333333333333333,\"#9c179e\"],[0.4444444444444444,\"#bd3786\"],[0.5555555555555556,\"#d8576b\"],[0.6666666666666666,\"#ed7953\"],[0.7777777777777778,\"#fb9f3a\"],[0.8888888888888888,\"#fdca26\"],[1.0,\"#f0f921\"]],\"sequentialminus\":[[0.0,\"#0d0887\"],[0.1111111111111111,\"#46039f\"],[0.2222222222222222,\"#7201a8\"],[0.3333333333333333,\"#9c179e\"],[0.4444444444444444,\"#bd3786\"],[0.5555555555555556,\"#d8576b\"],[0.6666666666666666,\"#ed7953\"],[0.7777777777777778,\"#fb9f3a\"],[0.8888888888888888,\"#fdca26\"],[1.0,\"#f0f921\"]],\"diverging\":[[0,\"#8e0152\"],[0.1,\"#c51b7d\"],[0.2,\"#de77ae\"],[0.3,\"#f1b6da\"],[0.4,\"#fde0ef\"],[0.5,\"#f7f7f7\"],[0.6,\"#e6f5d0\"],[0.7,\"#b8e186\"],[0.8,\"#7fbc41\"],[0.9,\"#4d9221\"],[1,\"#276419\"]]},\"xaxis\":{\"gridcolor\":\"white\",\"linecolor\":\"white\",\"ticks\":\"\",\"title\":{\"standoff\":15},\"zerolinecolor\":\"white\",\"automargin\":true,\"zerolinewidth\":2},\"yaxis\":{\"gridcolor\":\"white\",\"linecolor\":\"white\",\"ticks\":\"\",\"title\":{\"standoff\":15},\"zerolinecolor\":\"white\",\"automargin\":true,\"zerolinewidth\":2},\"scene\":{\"xaxis\":{\"backgroundcolor\":\"#E5ECF6\",\"gridcolor\":\"white\",\"linecolor\":\"white\",\"showbackground\":true,\"ticks\":\"\",\"zerolinecolor\":\"white\",\"gridwidth\":2},\"yaxis\":{\"backgroundcolor\":\"#E5ECF6\",\"gridcolor\":\"white\",\"linecolor\":\"white\",\"showbackground\":true,\"ticks\":\"\",\"zerolinecolor\":\"white\",\"gridwidth\":2},\"zaxis\":{\"backgroundcolor\":\"#E5ECF6\",\"gridcolor\":\"white\",\"linecolor\":\"white\",\"showbackground\":true,\"ticks\":\"\",\"zerolinecolor\":\"white\",\"gridwidth\":2}},\"shapedefaults\":{\"line\":{\"color\":\"#2a3f5f\"}},\"annotationdefaults\":{\"arrowcolor\":\"#2a3f5f\",\"arrowhead\":0,\"arrowwidth\":1},\"geo\":{\"bgcolor\":\"white\",\"landcolor\":\"#E5ECF6\",\"subunitcolor\":\"white\",\"showland\":true,\"showlakes\":true,\"lakecolor\":\"white\"},\"title\":{\"x\":0.05},\"mapbox\":{\"style\":\"light\"}}},\"scene\":{\"domain\":{\"x\":[0.0,1.0],\"y\":[0.0,1.0]},\"xaxis\":{\"title\":{\"text\":\"Feature1\"}},\"yaxis\":{\"title\":{\"text\":\"Feature2\"}},\"zaxis\":{\"title\":{\"text\":\"Output\"}}},\"legend\":{\"tracegroupgap\":0},\"margin\":{\"t\":60}},                        {\"responsive\": true}                    ).then(function(){\n",
       "                            \n",
       "var gd = document.getElementById('6e78eb96-d135-4cd1-96cf-6d506903b396');\n",
       "var x = new MutationObserver(function (mutations, observer) {{\n",
       "        var display = window.getComputedStyle(gd).display;\n",
       "        if (!display || display === 'none') {{\n",
       "            console.log([gd, 'removed!']);\n",
       "            Plotly.purge(gd);\n",
       "            observer.disconnect();\n",
       "        }}\n",
       "}});\n",
       "\n",
       "// Listen for the removal of the full notebook cells\n",
       "var notebookContainer = gd.closest('#notebook-container');\n",
       "if (notebookContainer) {{\n",
       "    x.observe(notebookContainer, {childList: true});\n",
       "}}\n",
       "\n",
       "// Listen for the clearing of the current output cell\n",
       "var outputEl = gd.closest('.output');\n",
       "if (outputEl) {{\n",
       "    x.observe(outputEl, {childList: true});\n",
       "}}\n",
       "\n",
       "                        })                };                });            </script>        </div>"
      ]
     },
     "metadata": {},
     "output_type": "display_data"
    }
   ],
   "source": [
    "px.scatter_3d(df,x = 'Feature1',y = 'Feature2',z = 'Output')"
   ]
  },
  {
   "cell_type": "code",
   "execution_count": 64,
   "id": "dd18f4cc-5d6f-4f3e-9d20-0c4ea619a52a",
   "metadata": {},
   "outputs": [
    {
     "name": "stdout",
     "output_type": "stream",
     "text": [
      "R2 : 0.7792422557705898\n",
      "MSE : 3023.459547746025\n",
      "MAE : 44.57416240883312\n"
     ]
    }
   ],
   "source": [
    "from sklearn.model_selection import train_test_split\n",
    "X_train,X_test,y_train,y_test = train_test_split(X,y,test_size = 0.2,random_state = 3)\n",
    "\n",
    "\n",
    "from sklearn.linear_model import LinearRegression \n",
    "lr = LinearRegression()\n",
    "lr.fit(X_train,y_train)\n",
    "y_pred = lr.predict(X_test)\n",
    "\n",
    "\n",
    "print(\"R2 :\",r2_score(y_test,y_pred))\n",
    "print(\"MSE :\",mean_squared_error(y_test,y_pred))\n",
    "print(\"MAE :\",mean_absolute_error(y_test,y_pred))"
   ]
  }
 ],
 "metadata": {
  "kernelspec": {
   "display_name": "Python 3 (ipykernel)",
   "language": "python",
   "name": "python3"
  },
  "language_info": {
   "codemirror_mode": {
    "name": "ipython",
    "version": 3
   },
   "file_extension": ".py",
   "mimetype": "text/x-python",
   "name": "python",
   "nbconvert_exporter": "python",
   "pygments_lexer": "ipython3",
   "version": "3.11.7"
  }
 },
 "nbformat": 4,
 "nbformat_minor": 5
}
